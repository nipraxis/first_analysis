{
 "cells": [
  {
   "cell_type": "markdown",
   "id": "ff1d706f",
   "metadata": {},
   "source": [
    "# Getting ready for an analysis"
   ]
  },
  {
   "cell_type": "markdown",
   "id": "6798867c",
   "metadata": {},
   "source": [
    "[Chris\n",
    "Gorgolewski](https://reproducibility.stanford.edu/team/chris-gorgolewski)\n",
    "kindly gave this exercise in our Berkeley courses.\n",
    "\n",
    "The exercise gets you started on:\n",
    "\n",
    "* using variables;\n",
    "* numbers and strings;\n",
    "* opening and reading from files.\n"
   ]
  },
  {
   "cell_type": "markdown",
   "id": "416fafdf",
   "metadata": {},
   "source": [
    "## Introduction\n",
    "\n",
    "Fill in the code cells containing `...` in the cells below.\n",
    "\n",
    "When you have filled in the code, run any tests for the cell, in the cell\n",
    "below.  Some cells don't have test cells below them.\n",
    "\n",
    "If your code was not correct, the tests will give an `AssertionError`.  If the\n",
    "code appears to be correct, the test cell will run without error.\n"
   ]
  },
  {
   "cell_type": "markdown",
   "id": "f5e58c76",
   "metadata": {},
   "source": [
    "## The analysis"
   ]
  },
  {
   "cell_type": "markdown",
   "id": "4df9a8ac",
   "metadata": {},
   "source": [
    "Define a `number_of_subjects` variable and assign value 20 to it."
   ]
  },
  {
   "cell_type": "code",
   "execution_count": null,
   "id": "707df4f9",
   "metadata": {},
   "outputs": [],
   "source": [
    "#- Your code here.\n",
    "number_of_subjects = ..."
   ]
  },
  {
   "cell_type": "markdown",
   "id": "317c05b5",
   "metadata": {},
   "source": [
    "Now run the cell below to test the code above.  Remember, if it gives an `AssertionError`, then there's a problem with your code above.  If it runs without error, your code above probably gave the right answer."
   ]
  },
  {
   "cell_type": "code",
   "execution_count": null,
   "id": "97867d58",
   "metadata": {
    "lines_to_next_cell": 2
   },
   "outputs": [],
   "source": [
    "# Run this cell to test the cell above.\n",
    "assert 'number_of_subjects' in dir()  # Variable exists\n",
    "assert number_of_subjects is not ...  # Variable changed from template\n",
    "assert number_of_subjects == 20  # Variable has correct value."
   ]
  },
  {
   "cell_type": "markdown",
   "id": "678c3ad2",
   "metadata": {},
   "source": [
    "Display the statement: `We have <x> subjects` where `<x>` is the number of\n",
    "subjects.  For example, if you had 10 subjects (you don't) you should see `We have 10 subjects`."
   ]
  },
  {
   "cell_type": "code",
   "execution_count": null,
   "id": "59dab8a7",
   "metadata": {},
   "outputs": [],
   "source": [
    "#- Your code here\n",
    "print(f\"...\")"
   ]
  },
  {
   "cell_type": "markdown",
   "id": "9eb03689",
   "metadata": {},
   "source": [
    "Define two variables: `control_subjects` and `drug_subjects` and assign values\n",
    "18 and 22 respectively."
   ]
  },
  {
   "cell_type": "code",
   "execution_count": null,
   "id": "c28a295b",
   "metadata": {},
   "outputs": [],
   "source": [
    "#- Your code here\n",
    "...\n",
    "..."
   ]
  },
  {
   "cell_type": "code",
   "execution_count": null,
   "id": "2c621ae8",
   "metadata": {},
   "outputs": [],
   "source": [
    "# Run this cell to test the cell above.\n",
    "assert 'control_subjects' in dir()  # Variable exists\n",
    "assert 'drug_subjects' in dir()  # Variable exists\n",
    "assert control_subjects == 18  # Variable has correct value.\n",
    "assert drug_subjects == 12  # Variable has correct value."
   ]
  },
  {
   "cell_type": "markdown",
   "id": "968a1884",
   "metadata": {},
   "source": [
    "Now define a new variable `all_subjects` which is a sum of the two."
   ]
  },
  {
   "cell_type": "code",
   "execution_count": null,
   "id": "0d112bca",
   "metadata": {},
   "outputs": [],
   "source": [
    "#- Your code here\n",
    "..."
   ]
  },
  {
   "cell_type": "code",
   "execution_count": null,
   "id": "54eaf4fc",
   "metadata": {},
   "outputs": [],
   "source": [
    "# Run this cell to test the cell above.\n",
    "assert 'all_subjects' in dir()  # Variable exists\n",
    "assert all_subjects == 30  # Variable has correct value."
   ]
  },
  {
   "cell_type": "markdown",
   "id": "942da603",
   "metadata": {},
   "source": [
    "Now have a look at the textbook page on [string formatting](https://textbook.nipraxis.org/string_formatting.html).\n",
    "\n",
    "The directories for each subject have names:\n",
    "\n",
    "- `sub000`\n",
    "- `sub001`\n",
    "- etc, up to\n",
    "- `sub029`\n",
    "\n",
    "Here's how to build a string for subject number 20, using string formatting\n",
    "(see the page above):"
   ]
  },
  {
   "cell_type": "code",
   "execution_count": null,
   "id": "69037279",
   "metadata": {},
   "outputs": [],
   "source": [
    "val = 20\n",
    "# Make a suitable string using the value of `val`\n",
    "f'sub{val:03d}'"
   ]
  },
  {
   "cell_type": "markdown",
   "id": "2ad3a258",
   "metadata": {},
   "source": [
    "Now use a `for` loop to print the subject identifiers for each subject, each subject identifier on one line.  This will start:\n",
    "\n",
    "```\n",
    "sub000\n",
    "sub001\n",
    "sub002\n",
    "```"
   ]
  },
  {
   "cell_type": "code",
   "execution_count": null,
   "id": "902b29d1",
   "metadata": {},
   "outputs": [],
   "source": [
    "#- Starting at 0 and going up to (not including) the value of `all_subjects`\n",
    "for i in range(0, all_subjects):\n",
    "    print(...)"
   ]
  },
  {
   "cell_type": "markdown",
   "id": "75dc3e06",
   "metadata": {},
   "source": [
    "Create a variable `list_of_subjects` containing a list of identifiers you\n",
    "just printed."
   ]
  },
  {
   "cell_type": "code",
   "execution_count": null,
   "id": "00929117",
   "metadata": {},
   "outputs": [],
   "source": [
    "list_of_subjects = []\n",
    "...\n",
    "# Show the result\n",
    "list_of_subjects"
   ]
  },
  {
   "cell_type": "code",
   "execution_count": null,
   "id": "514cff91",
   "metadata": {},
   "outputs": [],
   "source": [
    "# Test the list creation.\n",
    "assert 'list_of_subjects' in dir()  # Variable exists.\n",
    "assert isinstance(list_of_subjects, list)  # It's a list.\n",
    "assert len(list_of_subjects) == all_subjects  # Has right number of elements.\n",
    "# Test some elements.\n",
    "assert list_of_subjects[1] == 'sub001'\n",
    "assert list_of_subjects[12] == 'sub012'\n",
    "assert list_of_subjects[-1] == 'sub029'"
   ]
  },
  {
   "cell_type": "markdown",
   "id": "1e40c563",
   "metadata": {},
   "source": [
    "Unfortunately the data from some subjects were corrupted. Create another\n",
    "variable `list_of_excluded_subjects` containing the strings `'sub005'` and\n",
    "`'sub008'`."
   ]
  },
  {
   "cell_type": "code",
   "execution_count": null,
   "id": "d110cef6",
   "metadata": {},
   "outputs": [],
   "source": [
    "..."
   ]
  },
  {
   "cell_type": "code",
   "execution_count": null,
   "id": "1e8019ea",
   "metadata": {},
   "outputs": [],
   "source": [
    "# Test the list creation.\n",
    "assert 'list_of_excluded_subjects' in dir()  # Variable exists.\n",
    "assert isinstance(list_of_excluded_subjects, list)  # It's a list.\n",
    "assert len(list_of_excluded_subjects) == 2  # Has right number of elements.\n",
    "assert list_of_excluded_subjects[0] == 'sub005'\n",
    "assert list_of_excluded_subjects[-1] == 'sub008'"
   ]
  },
  {
   "cell_type": "markdown",
   "id": "506c6800",
   "metadata": {},
   "source": [
    "Now create a *list* of all subjects apart from those in the\n",
    "`list_of_excluded_subjects`.  Put this new list into the variable\n",
    "`good_subjects`.\n",
    "\n",
    "**Hint**: you can use a `for` loop."
   ]
  },
  {
   "cell_type": "code",
   "execution_count": null,
   "id": "142f1674",
   "metadata": {},
   "outputs": [],
   "source": [
    "good_subjects = []\n",
    "...\n",
    "# Show the result\n",
    "good_subjects"
   ]
  },
  {
   "cell_type": "code",
   "execution_count": null,
   "id": "62b1242c",
   "metadata": {},
   "outputs": [],
   "source": [
    "# Test the list creation.\n",
    "assert 'good_subjects' in dir()  # Variable exists.\n",
    "assert isinstance(good_subjects, list)  # It's a list.\n",
    "assert len(good_subjects) == all_subjects - 2  # Has right number of elements.\n",
    "assert good_subjects[5] == 'sub006'\n",
    "assert good_subjects[-1] == 'sub029'"
   ]
  },
  {
   "cell_type": "markdown",
   "id": "a11d4cb9",
   "metadata": {},
   "source": [
    "Do we expect the same identifier to be on the list of subjects twice? If not\n",
    "what other data structure could we use to contain the subjects?  Consider\n",
    "whether you could use this data structure to solve your code problem without a\n",
    "`for` loop.   See the [solution](first_analysis_solution.ipynb) for a way of\n",
    "doing this."
   ]
  },
  {
   "cell_type": "code",
   "execution_count": null,
   "id": "19cc6264",
   "metadata": {},
   "outputs": [],
   "source": [
    "#- See the solution for a way of solving the problem above\n",
    "#- without using a `for` loop.\n",
    "good_subjects_again = ...\n",
    "# Show the result\n",
    "good_subjects_again"
   ]
  },
  {
   "cell_type": "markdown",
   "id": "490471b1",
   "metadata": {},
   "source": [
    "For the next step, we return to using the `good_subjects` list you should have\n",
    "built above.\n",
    "\n",
    "Now write out your ordered subjects to text file called `usable_subjects.txt`.\n",
    "Write one subject identifier per line."
   ]
  },
  {
   "cell_type": "code",
   "execution_count": null,
   "id": "d72727ec",
   "metadata": {},
   "outputs": [],
   "source": [
    "# Make sure we have a sorted list.\n",
    "good_list = sorted(good_subjects)\n",
    "# Open the file for writing\n",
    "fobj = open('usable_subjects.txt', 'wt')\n",
    "...\n",
    "# Don't forget to close the file.\n",
    "fobj.close()"
   ]
  },
  {
   "cell_type": "code",
   "execution_count": null,
   "id": "78f7917e",
   "metadata": {},
   "outputs": [],
   "source": [
    "# Some tests\n",
    "import os.path as op\n",
    "assert op.isfile('usable_subjects.txt')\n",
    "lines = open('usable_subjects.txt', 'rt').readlines()\n",
    "assert len(lines) == len(good_subjects)\n",
    "for i in range(len(lines)):\n",
    "    assert lines[i].strip() == good_subjects[i]"
   ]
  },
  {
   "cell_type": "markdown",
   "id": "3a7fb599",
   "metadata": {},
   "source": [
    "For the rest of the class we would like you to work on the following task:\n",
    "\n",
    "You are given a log file called `24719.f3_beh_CHYM.csv`.  It contains the\n",
    "results from a behavioral experiment.\n",
    "\n",
    "The first line in the file contains the header, giving the names of the\n",
    "variables.  Each line after the first corresponds to one trial of the\n",
    "experiment. We are interested in the average response time on trials where\n",
    "response was the “space” key and displayed shape (“trial_shape”) was a red\n",
    "square.  Here are the first few lines of this file:\n",
    "\n",
    "```\n",
    "response,response_time,trial_ISI,trial_shape\n",
    "None,0,2000,red_star\n",
    "None,0,1000,red_circle\n",
    "None,0,2500,green_triangle\n",
    "None,0,1500,yellow_square\n",
    "```\n",
    "\n",
    "**Hints**\n",
    "\n",
    "- When you read lines from a text file, they end with a carriage return;\n",
    "- Remember `split`;\n",
    "- String are not numbers;\n",
    "\n",
    "See [the solution](first_analysis_solution.ipynb) for the — *solution*!"
   ]
  },
  {
   "cell_type": "code",
   "execution_count": null,
   "id": "6b4fce79",
   "metadata": {},
   "outputs": [],
   "source": [
    "total_rt = 0.\n",
    "n = 0\n",
    "fobj = open(\"24719.f3_beh_CHYM.csv\", 'rt')\n",
    "...\n",
    "...\n",
    "...\n",
    "# Show the average reaction time.\n",
    "print(total_rt / n)"
   ]
  },
  {
   "cell_type": "code",
   "execution_count": null,
   "id": "01b6bd8f",
   "metadata": {},
   "outputs": [],
   "source": [
    "# A simple test for the correct answer.\n",
    "assert round(total_rt / n) == 382"
   ]
  },
  {
   "cell_type": "markdown",
   "id": "3cd6a40b",
   "metadata": {},
   "source": [
    "## Bonus exercise\n",
    "\n",
    "Have a look at the Pandas package especially the `read_csv` method. Could you\n",
    "solve the previous exercise using this functionality?"
   ]
  },
  {
   "cell_type": "markdown",
   "id": "b892e723",
   "metadata": {},
   "source": [
    "## Some final cleanup\n",
    "\n",
    "Just to be tidy, let us delete the file we created above:"
   ]
  },
  {
   "cell_type": "code",
   "execution_count": null,
   "id": "43a23c67",
   "metadata": {},
   "outputs": [],
   "source": [
    "# Delete the usable_subjects.txt file.\n",
    "# Just in case we are re-running the notebook.\n",
    "import os\n",
    "os.unlink('usable_subjects.txt')"
   ]
  }
 ],
 "metadata": {
  "jupytext": {
   "notebook_metadata_filter": "all,-language_info",
   "split_at_heading": true,
   "text_representation": {
    "extension": ".Rmd",
    "format_name": "rmarkdown",
    "format_version": "1.2",
    "jupytext_version": "1.13.7"
   }
  },
  "kernelspec": {
   "display_name": "Python 3",
   "language": "python",
   "name": "python3"
  }
 },
 "nbformat": 4,
 "nbformat_minor": 5
}
