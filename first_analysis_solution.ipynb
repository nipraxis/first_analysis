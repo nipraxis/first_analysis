{
 "cells": [
  {
   "cell_type": "markdown",
   "id": "4fa4e104",
   "metadata": {},
   "source": [
    "# Getting ready for an analysis"
   ]
  },
  {
   "cell_type": "markdown",
   "id": "7643f936",
   "metadata": {},
   "source": [
    "[Chris\n",
    "Gorgolewski](https://reproducibility.stanford.edu/team/chris-gorgolewski)\n",
    "kindly gave this exercise in our Berkeley courses.\n",
    "\n",
    "The exercise gets you started on:\n",
    "\n",
    "* using variables;\n",
    "* numbers and strings;\n",
    "* opening and reading from files.\n"
   ]
  },
  {
   "cell_type": "markdown",
   "id": "39d3b797",
   "metadata": {},
   "source": [
    "## Introduction\n",
    "\n",
    "Fill in the code cells containing `...` in the cells below.\n",
    "\n",
    "When you have filled in the code, run any tests for the cell, in the cell\n",
    "below.  Some cells don't have test cells below them.\n",
    "\n",
    "If your code was not correct, the tests will give an `AssertionError`.  If the\n",
    "code appears to be correct, the test cell will run without error.\n"
   ]
  },
  {
   "cell_type": "markdown",
   "id": "ffdb43ed",
   "metadata": {},
   "source": [
    "## The analysis"
   ]
  },
  {
   "cell_type": "markdown",
   "id": "ef335f03",
   "metadata": {},
   "source": [
    "Define a `number_of_subjects` variable and assign value 20 to it."
   ]
  },
  {
   "cell_type": "code",
   "execution_count": 1,
   "id": "e849f9c4",
   "metadata": {
    "execution": {
     "iopub.execute_input": "2022-03-31T10:35:48.024164Z",
     "iopub.status.busy": "2022-03-31T10:35:48.023405Z",
     "iopub.status.idle": "2022-03-31T10:35:48.025481Z",
     "shell.execute_reply": "2022-03-31T10:35:48.025877Z"
    }
   },
   "outputs": [],
   "source": [
    "#- Your code here.\n",
    "number_of_subjects = 20"
   ]
  },
  {
   "cell_type": "markdown",
   "id": "ac38b8f9",
   "metadata": {},
   "source": [
    "Now run the cell below to test the code above.  Remember, if it gives an `AssertionError`, then there's a problem with your code above.  If it runs without error, your code above probably gave the right answer."
   ]
  },
  {
   "cell_type": "code",
   "execution_count": 2,
   "id": "999ce918",
   "metadata": {
    "execution": {
     "iopub.execute_input": "2022-03-31T10:35:48.029828Z",
     "iopub.status.busy": "2022-03-31T10:35:48.029102Z",
     "iopub.status.idle": "2022-03-31T10:35:48.031060Z",
     "shell.execute_reply": "2022-03-31T10:35:48.031490Z"
    },
    "lines_to_next_cell": 2
   },
   "outputs": [],
   "source": [
    "# Run this cell to test the cell above.\n",
    "assert 'number_of_subjects' in dir()  # Variable exists\n",
    "assert number_of_subjects is not ...  # Variable changed from template\n",
    "assert number_of_subjects == 20  # Variable has correct value."
   ]
  },
  {
   "cell_type": "markdown",
   "id": "c69ade5e",
   "metadata": {},
   "source": [
    "Display the statement: `We have <x> subjects` where `<x>` is the number of\n",
    "subjects.  For example, if you had 10 subjects (you don't) you should see `We have 10 subjects`."
   ]
  },
  {
   "cell_type": "code",
   "execution_count": 3,
   "id": "1a2157b6",
   "metadata": {
    "execution": {
     "iopub.execute_input": "2022-03-31T10:35:48.035368Z",
     "iopub.status.busy": "2022-03-31T10:35:48.034669Z",
     "iopub.status.idle": "2022-03-31T10:35:48.037399Z",
     "shell.execute_reply": "2022-03-31T10:35:48.037887Z"
    }
   },
   "outputs": [],
   "source": [
    "#- Your code here\n",
    "print(\"We have {number_of_subjects} subjects\")"
   ]
  },
  {
   "cell_type": "markdown",
   "id": "40f0e6ff",
   "metadata": {},
   "source": [
    "Define two variables: `control_subjects` and `drug_subjects` and assign values\n",
    "18 and 22 respectively."
   ]
  },
  {
   "cell_type": "code",
   "execution_count": 4,
   "id": "df3a74ed",
   "metadata": {
    "execution": {
     "iopub.execute_input": "2022-03-31T10:35:48.041522Z",
     "iopub.status.busy": "2022-03-31T10:35:48.040921Z",
     "iopub.status.idle": "2022-03-31T10:35:48.042752Z",
     "shell.execute_reply": "2022-03-31T10:35:48.043166Z"
    }
   },
   "outputs": [],
   "source": [
    "#- Your code here\n",
    "control_subjects = 18\n",
    "drug_subjects = 12"
   ]
  },
  {
   "cell_type": "code",
   "execution_count": 5,
   "id": "46764be0",
   "metadata": {
    "execution": {
     "iopub.execute_input": "2022-03-31T10:35:48.046972Z",
     "iopub.status.busy": "2022-03-31T10:35:48.046318Z",
     "iopub.status.idle": "2022-03-31T10:35:48.048275Z",
     "shell.execute_reply": "2022-03-31T10:35:48.048697Z"
    }
   },
   "outputs": [],
   "source": [
    "# Run this cell to test the cell above.\n",
    "assert 'control_subjects' in dir()  # Variable exists\n",
    "assert 'drug_subjects' in dir()  # Variable exists\n",
    "assert control_subjects == 18  # Variable has correct value.\n",
    "assert drug_subjects == 12  # Variable has correct value."
   ]
  },
  {
   "cell_type": "markdown",
   "id": "a02cf2b1",
   "metadata": {},
   "source": [
    "Now define a new variable `all_subjects` which is a sum of the two."
   ]
  },
  {
   "cell_type": "code",
   "execution_count": 6,
   "id": "182ba899",
   "metadata": {
    "execution": {
     "iopub.execute_input": "2022-03-31T10:35:48.052239Z",
     "iopub.status.busy": "2022-03-31T10:35:48.051642Z",
     "iopub.status.idle": "2022-03-31T10:35:48.053416Z",
     "shell.execute_reply": "2022-03-31T10:35:48.053900Z"
    }
   },
   "outputs": [],
   "source": [
    "#- Your code here\n",
    "all_subjects = control_subjects + drug_subjects"
   ]
  },
  {
   "cell_type": "code",
   "execution_count": 7,
   "id": "bfb98fe9",
   "metadata": {
    "execution": {
     "iopub.execute_input": "2022-03-31T10:35:48.057396Z",
     "iopub.status.busy": "2022-03-31T10:35:48.056808Z",
     "iopub.status.idle": "2022-03-31T10:35:48.058967Z",
     "shell.execute_reply": "2022-03-31T10:35:48.058469Z"
    }
   },
   "outputs": [],
   "source": [
    "# Run this cell to test the cell above.\n",
    "assert 'all_subjects' in dir()  # Variable exists\n",
    "assert all_subjects == 30  # Variable has correct value."
   ]
  },
  {
   "cell_type": "markdown",
   "id": "c742278c",
   "metadata": {},
   "source": [
    "Now have a look at the textbook page on [string formatting](https://textbook.nipraxis.org/string_formatting.html).\n",
    "\n",
    "The directories for each subject have names:\n",
    "\n",
    "- `sub000`\n",
    "- `sub001`\n",
    "- etc, up to\n",
    "- `sub029`\n",
    "\n",
    "Here's how to build a string for subject number 20, using string formatting\n",
    "(see the page above):"
   ]
  },
  {
   "cell_type": "code",
   "execution_count": 8,
   "id": "c29550df",
   "metadata": {
    "execution": {
     "iopub.execute_input": "2022-03-31T10:35:48.067730Z",
     "iopub.status.busy": "2022-03-31T10:35:48.067039Z",
     "iopub.status.idle": "2022-03-31T10:35:48.069743Z",
     "shell.execute_reply": "2022-03-31T10:35:48.070161Z"
    }
   },
   "outputs": [],
   "source": [
    "val = 20\n",
    "# Make a suitable string using the value of `val`\n",
    "f'sub{val:03d}'"
   ]
  },
  {
   "cell_type": "markdown",
   "id": "753f4898",
   "metadata": {},
   "source": [
    "Now use a `for` loop to print the subject identifiers for each subject, each subject identifier on one line.  This will start:\n",
    "\n",
    "```\n",
    "sub000\n",
    "sub001\n",
    "sub002\n",
    "```"
   ]
  },
  {
   "cell_type": "code",
   "execution_count": 9,
   "id": "5f66c50b",
   "metadata": {
    "execution": {
     "iopub.execute_input": "2022-03-31T10:35:48.074438Z",
     "iopub.status.busy": "2022-03-31T10:35:48.073750Z",
     "iopub.status.idle": "2022-03-31T10:35:48.075903Z",
     "shell.execute_reply": "2022-03-31T10:35:48.076432Z"
    }
   },
   "outputs": [],
   "source": [
    "#- Starting at 1 and going up to (and including) the value of `all_subjects`\n",
    "for i in range(1, all_subjects + 1):\n",
    "    print(f\"sub{i:03d}\")"
   ]
  },
  {
   "cell_type": "markdown",
   "id": "d6ea276f",
   "metadata": {},
   "source": [
    "Create a variable `list_of_subjects` containing a list of identifiers you\n",
    "just printed."
   ]
  },
  {
   "cell_type": "code",
   "execution_count": 10,
   "id": "ea39d2f3",
   "metadata": {
    "execution": {
     "iopub.execute_input": "2022-03-31T10:35:48.081284Z",
     "iopub.status.busy": "2022-03-31T10:35:48.080560Z",
     "iopub.status.idle": "2022-03-31T10:35:48.083185Z",
     "shell.execute_reply": "2022-03-31T10:35:48.083598Z"
    }
   },
   "outputs": [],
   "source": [
    "list_of_subjects = []\n",
    "for i in range(0, all_subjects):\n",
    "    list_of_subjects.append(f\"sub{i:03d}\")\n",
    "# Show the result\n",
    "list_of_subjects"
   ]
  },
  {
   "cell_type": "code",
   "execution_count": 11,
   "id": "898ac81c",
   "metadata": {
    "execution": {
     "iopub.execute_input": "2022-03-31T10:35:48.087932Z",
     "iopub.status.busy": "2022-03-31T10:35:48.087246Z",
     "iopub.status.idle": "2022-03-31T10:35:48.089080Z",
     "shell.execute_reply": "2022-03-31T10:35:48.089500Z"
    }
   },
   "outputs": [],
   "source": [
    "# Test the list creation.\n",
    "assert 'list_of_subjects' in dir()  # Variable exists.\n",
    "assert isinstance(list_of_subjects, list)  # It's a list.\n",
    "assert len(list_of_subjects) == all_subjects  # Has right number of elements.\n",
    "# Test some elements.\n",
    "assert list_of_subjects[1] == 'sub001'\n",
    "assert list_of_subjects[12] == 'sub012'\n",
    "assert list_of_subjects[-1] == 'sub029'"
   ]
  },
  {
   "cell_type": "markdown",
   "id": "c0d92bed",
   "metadata": {},
   "source": [
    "Unfortunately the data from some subjects were corrupted. Create another\n",
    "variable `list_of_excluded_subjects` containing the strings `'sub005'` and\n",
    "`'sub008'`."
   ]
  },
  {
   "cell_type": "code",
   "execution_count": 12,
   "id": "20beee4a",
   "metadata": {
    "execution": {
     "iopub.execute_input": "2022-03-31T10:35:48.093144Z",
     "iopub.status.busy": "2022-03-31T10:35:48.092555Z",
     "iopub.status.idle": "2022-03-31T10:35:48.094401Z",
     "shell.execute_reply": "2022-03-31T10:35:48.094820Z"
    }
   },
   "outputs": [],
   "source": [
    "list_of_excluded_subjects = ['sub005', 'sub008']"
   ]
  },
  {
   "cell_type": "code",
   "execution_count": 13,
   "id": "64d403d4",
   "metadata": {
    "execution": {
     "iopub.execute_input": "2022-03-31T10:35:48.098820Z",
     "iopub.status.busy": "2022-03-31T10:35:48.098224Z",
     "iopub.status.idle": "2022-03-31T10:35:48.099967Z",
     "shell.execute_reply": "2022-03-31T10:35:48.100456Z"
    }
   },
   "outputs": [],
   "source": [
    "# Test the list creation.\n",
    "assert 'list_of_excluded_subjects' in dir()  # Variable exists.\n",
    "assert isinstance(list_of_excluded_subjects, list)  # It's a list.\n",
    "assert len(list_of_excluded_subjects) == 2  # Has right number of elements.\n",
    "assert list_of_excluded_subjects[0] == 'sub005'\n",
    "assert list_of_excluded_subjects[-1] == 'sub008'"
   ]
  },
  {
   "cell_type": "markdown",
   "id": "9a1bc8c5",
   "metadata": {},
   "source": [
    "Now create a *list* of all subjects apart from those in the\n",
    "`list_of_excluded_subjects`.  Put this new list into the variable\n",
    "`good_subjects`.\n",
    "\n",
    "**Hint**: you can use a `for` loop."
   ]
  },
  {
   "cell_type": "code",
   "execution_count": 14,
   "id": "f024b831",
   "metadata": {
    "execution": {
     "iopub.execute_input": "2022-03-31T10:35:48.105285Z",
     "iopub.status.busy": "2022-03-31T10:35:48.104681Z",
     "iopub.status.idle": "2022-03-31T10:35:48.107226Z",
     "shell.execute_reply": "2022-03-31T10:35:48.107646Z"
    }
   },
   "outputs": [],
   "source": [
    "good_subjects = []\n",
    "for i in range(all_subjects):\n",
    "    subject = list_of_subjects[i]\n",
    "    if subject in list_of_excluded_subjects:\n",
    "        continue\n",
    "    good_subjects.append(subject)\n",
    "# Show the result\n",
    "good_subjects"
   ]
  },
  {
   "cell_type": "code",
   "execution_count": 15,
   "id": "36889d93",
   "metadata": {
    "execution": {
     "iopub.execute_input": "2022-03-31T10:35:48.111716Z",
     "iopub.status.busy": "2022-03-31T10:35:48.111043Z",
     "iopub.status.idle": "2022-03-31T10:35:48.112769Z",
     "shell.execute_reply": "2022-03-31T10:35:48.113239Z"
    }
   },
   "outputs": [],
   "source": [
    "# Test the list creation.\n",
    "assert 'good_subjects' in dir()  # Variable exists.\n",
    "assert isinstance(good_subjects, list)  # It's a list.\n",
    "assert len(good_subjects) == all_subjects - 2  # Has right number of elements.\n",
    "assert good_subjects[5] == 'sub006'\n",
    "assert good_subjects[-1] == 'sub029'"
   ]
  },
  {
   "cell_type": "markdown",
   "id": "8c58e770",
   "metadata": {},
   "source": [
    "Do we expect the same identifier to be on the list of subjects twice? If not\n",
    "what other data structure could we use to contain the subjects?  Consider\n",
    "whether you could use this data structure to solve your code problem without a\n",
    "`for` loop.   See the [solution](first_analysis_solution.ipynb) for a way of\n",
    "doing this."
   ]
  },
  {
   "cell_type": "code",
   "execution_count": 16,
   "id": "60e98785",
   "metadata": {
    "execution": {
     "iopub.execute_input": "2022-03-31T10:35:48.117667Z",
     "iopub.status.busy": "2022-03-31T10:35:48.116964Z",
     "iopub.status.idle": "2022-03-31T10:35:48.119496Z",
     "shell.execute_reply": "2022-03-31T10:35:48.120010Z"
    }
   },
   "outputs": [],
   "source": [
    "#- See the solution for a way of solving the problem above\n",
    "#- without using a `for` loop.\n",
    "good_subjects_again = set(list_of_subjects) - set(list_of_excluded_subjects)\n",
    "# Show the result\n",
    "good_subjects_again"
   ]
  },
  {
   "cell_type": "markdown",
   "id": "f21af45f",
   "metadata": {},
   "source": [
    "For the next step, we return to using the `good_subjects` list you should have\n",
    "built above.\n",
    "\n",
    "Now write out your ordered subjects to text file called `usable_subjects.txt`.\n",
    "Write one subject identifier per line."
   ]
  },
  {
   "cell_type": "code",
   "execution_count": 17,
   "id": "39619f0e",
   "metadata": {
    "execution": {
     "iopub.execute_input": "2022-03-31T10:35:48.123816Z",
     "iopub.status.busy": "2022-03-31T10:35:48.123220Z",
     "iopub.status.idle": "2022-03-31T10:35:48.125663Z",
     "shell.execute_reply": "2022-03-31T10:35:48.126079Z"
    }
   },
   "outputs": [],
   "source": [
    "# Make sure we have a sorted list.\n",
    "good_list = sorted(good_subjects)\n",
    "# Open the file for writing\n",
    "fobj = open('usable_subjects.txt', 'wt')\n",
    "for i in range(len(good_list)):\n",
    "    fobj.write(good_list[i] + '\\n')\n",
    "# Don't forget to close the file.\n",
    "fobj.close()"
   ]
  },
  {
   "cell_type": "code",
   "execution_count": 18,
   "id": "599cd949",
   "metadata": {
    "execution": {
     "iopub.execute_input": "2022-03-31T10:35:48.130344Z",
     "iopub.status.busy": "2022-03-31T10:35:48.129727Z",
     "iopub.status.idle": "2022-03-31T10:35:48.131947Z",
     "shell.execute_reply": "2022-03-31T10:35:48.132357Z"
    }
   },
   "outputs": [],
   "source": [
    "# Some tests\n",
    "import os.path as op\n",
    "assert op.isfile('usable_subjects.txt')\n",
    "contents = open('usable_subjects.txt', 'rt').read()\n",
    "lines = contents.splitlines()\n",
    "assert len(lines) == len(good_subjects)\n",
    "for i in range(len(lines)):\n",
    "    assert lines[i] == good_subjects[i]"
   ]
  },
  {
   "cell_type": "markdown",
   "id": "792e977f",
   "metadata": {},
   "source": [
    "For the rest of the class we would like you to work on the following task:\n",
    "\n",
    "You are given a log file called `24719.f3_beh_CHYM.csv`.  It contains the\n",
    "results from a behavioral experiment.\n",
    "\n",
    "The first line in the file contains the header, giving the names of the\n",
    "variables.  Each line after the first corresponds to one trial of the\n",
    "experiment. We are interested in the average response time on trials where\n",
    "response was the “space” key and displayed shape (“trial_shape”) was a red\n",
    "square.  Here are the first few lines of this file:\n",
    "\n",
    "```\n",
    "response,response_time,trial_ISI,trial_shape\n",
    "None,0,2000,red_star\n",
    "None,0,1000,red_circle\n",
    "None,0,2500,green_triangle\n",
    "None,0,1500,yellow_square\n",
    "```\n",
    "\n",
    "**Hints**\n",
    "\n",
    "- When you read lines from a text file, they end with a carriage return;\n",
    "- Remember `split`;\n",
    "- String are not numbers;\n",
    "\n",
    "See [the solution](first_analysis_solution.ipynb) for the — *solution*!"
   ]
  },
  {
   "cell_type": "code",
   "execution_count": 19,
   "id": "87513751",
   "metadata": {
    "execution": {
     "iopub.execute_input": "2022-03-31T10:35:48.137559Z",
     "iopub.status.busy": "2022-03-31T10:35:48.136894Z",
     "iopub.status.idle": "2022-03-31T10:35:48.139261Z",
     "shell.execute_reply": "2022-03-31T10:35:48.139678Z"
    }
   },
   "outputs": [],
   "source": [
    "total_rt = 0.\n",
    "n = 0\n",
    "fobj = open(\"24719.f3_beh_CHYM.csv\", 'rt')\n",
    "lines = fobj.readlines()\n",
    "for i in range(1, len(lines)):\n",
    "    line = lines[i].strip()\n",
    "    parts = line.split(',')\n",
    "    if parts[0] == 'space' and parts[3] == 'red_square':\n",
    "        total_rt += int(parts[1])\n",
    "        n += 1\n",
    "# Show the average reaction time.\n",
    "print(total_rt / n)"
   ]
  },
  {
   "cell_type": "code",
   "execution_count": 20,
   "id": "4d5424cd",
   "metadata": {
    "execution": {
     "iopub.execute_input": "2022-03-31T10:35:48.143062Z",
     "iopub.status.busy": "2022-03-31T10:35:48.142425Z",
     "iopub.status.idle": "2022-03-31T10:35:48.144259Z",
     "shell.execute_reply": "2022-03-31T10:35:48.144684Z"
    }
   },
   "outputs": [],
   "source": [
    "# A simple test for the correct answer.\n",
    "assert round(total_rt / n) == 382"
   ]
  },
  {
   "cell_type": "markdown",
   "id": "163d139a",
   "metadata": {},
   "source": [
    "## Bonus exercise\n",
    "\n",
    "Have a look at the Pandas package especially the `read_csv` method. Could you\n",
    "solve the previous exercise using this functionality?"
   ]
  },
  {
   "cell_type": "markdown",
   "id": "391e0219",
   "metadata": {},
   "source": [
    "## Some final cleanup\n",
    "\n",
    "Just to be tidy, let us delete the file we created above:"
   ]
  },
  {
   "cell_type": "code",
   "execution_count": 21,
   "id": "15674bd4",
   "metadata": {
    "execution": {
     "iopub.execute_input": "2022-03-31T10:35:48.148040Z",
     "iopub.status.busy": "2022-03-31T10:35:48.147455Z",
     "iopub.status.idle": "2022-03-31T10:35:48.149466Z",
     "shell.execute_reply": "2022-03-31T10:35:48.150119Z"
    }
   },
   "outputs": [],
   "source": [
    "# Delete the usable_subjects.txt file.\n",
    "# Just in case we are re-running the notebook.\n",
    "import os\n",
    "os.unlink('usable_subjects.txt')"
   ]
  }
 ],
 "metadata": {
  "jupytext": {
   "notebook_metadata_filter": "all,-language_info",
   "split_at_heading": true,
   "text_representation": {
    "extension": ".Rmd",
    "format_name": "rmarkdown",
    "format_version": "1.2",
    "jupytext_version": "1.13.7"
   }
  },
  "kernelspec": {
   "display_name": "Python 3",
   "language": "python",
   "name": "python3"
  },
  "language_info": {
   "codemirror_mode": {
    "name": "ipython",
    "version": 3
   },
   "file_extension": ".py",
   "mimetype": "text/x-python",
   "name": "python",
   "nbconvert_exporter": "python",
   "pygments_lexer": "ipython3",
   "version": "3.8.13"
  }
 },
 "nbformat": 4,
 "nbformat_minor": 5
}
