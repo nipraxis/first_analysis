{
 "cells": [
  {
   "cell_type": "markdown",
   "id": "d4017d66",
   "metadata": {},
   "source": [
    "# Getting ready for an analysis"
   ]
  },
  {
   "cell_type": "markdown",
   "id": "96dbdb70",
   "metadata": {},
   "source": [
    "[Chris\n",
    "Gorgolewski](https://reproducibility.stanford.edu/team/chris-gorgolewski)\n",
    "kindly gave this exercise in our Berkeley courses.  He released the exercise\n",
    "under the [CC-by license](https://creativecommons.org/licenses/by/4.0), and\n",
    "the associated data file `24719.f3_beh_CHYM.csv` under the [CC-0\n",
    "license](https://creativecommons.org/share-your-work/public-domain/cc0/).\n",
    "\n",
    "The exercise gets you started on:\n",
    "\n",
    "* using variables;\n",
    "* numbers and strings;\n",
    "* opening and reading from files.\n"
   ]
  },
  {
   "cell_type": "markdown",
   "id": "2a8090c2",
   "metadata": {},
   "source": [
    "## Introduction\n",
    "\n",
    "Fill in the code cells containing `...` in the cells below.\n",
    "\n",
    "When you have filled in the code, run any tests for the cell, in the cell\n",
    "below.  Some cells don't have test cells below them.\n",
    "\n",
    "If your code was not correct, the tests will give an `AssertionError`.  If the\n",
    "code appears to be correct, the test cell will run without error.\n"
   ]
  },
  {
   "cell_type": "markdown",
   "id": "375d00c4",
   "metadata": {},
   "source": [
    "## The analysis"
   ]
  },
  {
   "cell_type": "markdown",
   "id": "f036498f",
   "metadata": {},
   "source": [
    "Define a `number_of_subjects` variable and assign value 20 to it."
   ]
  },
  {
   "cell_type": "code",
   "execution_count": 1,
   "id": "4813a938",
   "metadata": {
    "execution": {
     "iopub.execute_input": "2022-04-01T13:14:00.379864Z",
     "iopub.status.busy": "2022-04-01T13:14:00.379129Z",
     "iopub.status.idle": "2022-04-01T13:14:00.381165Z",
     "shell.execute_reply": "2022-04-01T13:14:00.381681Z"
    }
   },
   "outputs": [],
   "source": [
    "#- Your code here.\n",
    "number_of_subjects = 20"
   ]
  },
  {
   "cell_type": "markdown",
   "id": "50a8bc4d",
   "metadata": {},
   "source": [
    "Now run the cell below to test the code above.  Remember, if it gives an `AssertionError`, then there's a problem with your code above.  If it runs without error, your code above probably gave the right answer."
   ]
  },
  {
   "cell_type": "code",
   "execution_count": 2,
   "id": "bef0a307",
   "metadata": {
    "execution": {
     "iopub.execute_input": "2022-04-01T13:14:00.385938Z",
     "iopub.status.busy": "2022-04-01T13:14:00.385233Z",
     "iopub.status.idle": "2022-04-01T13:14:00.387440Z",
     "shell.execute_reply": "2022-04-01T13:14:00.387881Z"
    },
    "lines_to_next_cell": 2
   },
   "outputs": [],
   "source": [
    "# Run this cell to test the cell above.\n",
    "assert 'number_of_subjects' in dir()  # Variable exists\n",
    "assert number_of_subjects is not ...  # Variable changed from template\n",
    "assert number_of_subjects == 20  # Variable has correct value."
   ]
  },
  {
   "cell_type": "markdown",
   "id": "bd5ff27c",
   "metadata": {},
   "source": [
    "Display the statement: `We have <x> subjects` where `<x>` is the number of\n",
    "subjects.  For example, if you had 10 subjects (you don't) you should see `We have 10 subjects`."
   ]
  },
  {
   "cell_type": "code",
   "execution_count": 3,
   "id": "c3766704",
   "metadata": {
    "execution": {
     "iopub.execute_input": "2022-04-01T13:14:00.391654Z",
     "iopub.status.busy": "2022-04-01T13:14:00.390991Z",
     "iopub.status.idle": "2022-04-01T13:14:00.394452Z",
     "shell.execute_reply": "2022-04-01T13:14:00.394961Z"
    }
   },
   "outputs": [],
   "source": [
    "#- Your code here\n",
    "print(\"We have {number_of_subjects} subjects\")"
   ]
  },
  {
   "cell_type": "markdown",
   "id": "f1657524",
   "metadata": {},
   "source": [
    "Define two variables: `control_subjects` and `treatment_subjects` and assign values\n",
    "18 and 12 respectively."
   ]
  },
  {
   "cell_type": "code",
   "execution_count": 4,
   "id": "67a51312",
   "metadata": {
    "execution": {
     "iopub.execute_input": "2022-04-01T13:14:00.398830Z",
     "iopub.status.busy": "2022-04-01T13:14:00.398202Z",
     "iopub.status.idle": "2022-04-01T13:14:00.400867Z",
     "shell.execute_reply": "2022-04-01T13:14:00.400311Z"
    }
   },
   "outputs": [],
   "source": [
    "#- Your code here\n",
    "control_subjects = 18\n",
    "treatment_subjects = 12"
   ]
  },
  {
   "cell_type": "code",
   "execution_count": 5,
   "id": "60f53602",
   "metadata": {
    "execution": {
     "iopub.execute_input": "2022-04-01T13:14:00.405087Z",
     "iopub.status.busy": "2022-04-01T13:14:00.404330Z",
     "iopub.status.idle": "2022-04-01T13:14:00.406817Z",
     "shell.execute_reply": "2022-04-01T13:14:00.406345Z"
    }
   },
   "outputs": [],
   "source": [
    "# Run this cell to test the cell above.\n",
    "assert 'control_subjects' in dir()  # Variable exists\n",
    "assert 'treatment_subjects' in dir()  # Variable exists\n",
    "assert control_subjects == 18  # Variable has correct value.\n",
    "assert treatment_subjects == 12  # Variable has correct value."
   ]
  },
  {
   "cell_type": "markdown",
   "id": "ebfa32ce",
   "metadata": {},
   "source": [
    "Now define a new variable `all_subjects` which is a sum of the two."
   ]
  },
  {
   "cell_type": "code",
   "execution_count": 6,
   "id": "dea6b4a5",
   "metadata": {
    "execution": {
     "iopub.execute_input": "2022-04-01T13:14:00.410705Z",
     "iopub.status.busy": "2022-04-01T13:14:00.410059Z",
     "iopub.status.idle": "2022-04-01T13:14:00.411993Z",
     "shell.execute_reply": "2022-04-01T13:14:00.412427Z"
    }
   },
   "outputs": [],
   "source": [
    "#- Your code here\n",
    "all_subjects = control_subjects + treatment_subjects"
   ]
  },
  {
   "cell_type": "code",
   "execution_count": 7,
   "id": "a6810f12",
   "metadata": {
    "execution": {
     "iopub.execute_input": "2022-04-01T13:14:00.416267Z",
     "iopub.status.busy": "2022-04-01T13:14:00.415659Z",
     "iopub.status.idle": "2022-04-01T13:14:00.418300Z",
     "shell.execute_reply": "2022-04-01T13:14:00.417841Z"
    }
   },
   "outputs": [],
   "source": [
    "# Run this cell to test the cell above.\n",
    "assert 'all_subjects' in dir()  # Variable exists\n",
    "assert all_subjects == 30  # Variable has correct value."
   ]
  },
  {
   "cell_type": "markdown",
   "id": "17972d0d",
   "metadata": {},
   "source": [
    "Now have a look at the textbook page on [string formatting](https://textbook.nipraxis.org/string_formatting.html).\n",
    "\n",
    "The directories for each subject have names:\n",
    "\n",
    "- `sub000`\n",
    "- `sub001`\n",
    "- etc, up to\n",
    "- `sub029`\n",
    "\n",
    "Here's how to build a string for subject number 20, using string formatting\n",
    "(see the page above):"
   ]
  },
  {
   "cell_type": "code",
   "execution_count": 8,
   "id": "980dd1c4",
   "metadata": {
    "execution": {
     "iopub.execute_input": "2022-04-01T13:14:00.428425Z",
     "iopub.status.busy": "2022-04-01T13:14:00.427646Z",
     "iopub.status.idle": "2022-04-01T13:14:00.430572Z",
     "shell.execute_reply": "2022-04-01T13:14:00.430993Z"
    }
   },
   "outputs": [],
   "source": [
    "val = 20\n",
    "# Make a suitable string using the value of `val`\n",
    "f'sub{val:03d}'"
   ]
  },
  {
   "cell_type": "markdown",
   "id": "42768657",
   "metadata": {},
   "source": [
    "Now use a `for` loop to print the subject identifiers for each subject, each subject identifier on one line.  This will start:\n",
    "\n",
    "```\n",
    "sub000\n",
    "sub001\n",
    "sub002\n",
    "```"
   ]
  },
  {
   "cell_type": "code",
   "execution_count": 9,
   "id": "7efa0bb8",
   "metadata": {
    "execution": {
     "iopub.execute_input": "2022-04-01T13:14:00.434832Z",
     "iopub.status.busy": "2022-04-01T13:14:00.434160Z",
     "iopub.status.idle": "2022-04-01T13:14:00.437291Z",
     "shell.execute_reply": "2022-04-01T13:14:00.437712Z"
    }
   },
   "outputs": [],
   "source": [
    "#- Starting at 0 and going up to (not including) the value of `all_subjects`\n",
    "for i in range(0, all_subjects):\n",
    "    print(f\"sub{i:03d}\")"
   ]
  },
  {
   "cell_type": "markdown",
   "id": "2da0c996",
   "metadata": {},
   "source": [
    "Create a variable `list_of_subjects` containing a list of identifiers you\n",
    "just printed."
   ]
  },
  {
   "cell_type": "code",
   "execution_count": 10,
   "id": "f1c8a211",
   "metadata": {
    "execution": {
     "iopub.execute_input": "2022-04-01T13:14:00.442862Z",
     "iopub.status.busy": "2022-04-01T13:14:00.442155Z",
     "iopub.status.idle": "2022-04-01T13:14:00.445661Z",
     "shell.execute_reply": "2022-04-01T13:14:00.445195Z"
    }
   },
   "outputs": [],
   "source": [
    "list_of_subjects = []\n",
    "for i in range(0, all_subjects):\n",
    "    list_of_subjects.append(f\"sub{i:03d}\")\n",
    "# Show the result\n",
    "list_of_subjects"
   ]
  },
  {
   "cell_type": "code",
   "execution_count": 11,
   "id": "836867ed",
   "metadata": {
    "execution": {
     "iopub.execute_input": "2022-04-01T13:14:00.449985Z",
     "iopub.status.busy": "2022-04-01T13:14:00.449351Z",
     "iopub.status.idle": "2022-04-01T13:14:00.451291Z",
     "shell.execute_reply": "2022-04-01T13:14:00.451722Z"
    }
   },
   "outputs": [],
   "source": [
    "# Test the list creation.\n",
    "assert 'list_of_subjects' in dir()  # Variable exists.\n",
    "assert isinstance(list_of_subjects, list)  # It's a list.\n",
    "assert len(list_of_subjects) == all_subjects  # Has right number of elements.\n",
    "# Test some elements.\n",
    "assert list_of_subjects[1] == 'sub001'\n",
    "assert list_of_subjects[12] == 'sub012'\n",
    "assert list_of_subjects[-1] == 'sub029'"
   ]
  },
  {
   "cell_type": "markdown",
   "id": "7afeccd8",
   "metadata": {},
   "source": [
    "Unfortunately the data from some subjects were corrupted. Create another\n",
    "variable `list_of_excluded_subjects` containing the strings `'sub005'` and\n",
    "`'sub008'`."
   ]
  },
  {
   "cell_type": "code",
   "execution_count": 12,
   "id": "825be836",
   "metadata": {
    "execution": {
     "iopub.execute_input": "2022-04-01T13:14:00.455519Z",
     "iopub.status.busy": "2022-04-01T13:14:00.454867Z",
     "iopub.status.idle": "2022-04-01T13:14:00.456632Z",
     "shell.execute_reply": "2022-04-01T13:14:00.457132Z"
    }
   },
   "outputs": [],
   "source": [
    "list_of_excluded_subjects = ['sub005', 'sub008']"
   ]
  },
  {
   "cell_type": "code",
   "execution_count": 13,
   "id": "4919c567",
   "metadata": {
    "execution": {
     "iopub.execute_input": "2022-04-01T13:14:00.461372Z",
     "iopub.status.busy": "2022-04-01T13:14:00.460742Z",
     "iopub.status.idle": "2022-04-01T13:14:00.462620Z",
     "shell.execute_reply": "2022-04-01T13:14:00.463039Z"
    }
   },
   "outputs": [],
   "source": [
    "# Test the list creation.\n",
    "assert 'list_of_excluded_subjects' in dir()  # Variable exists.\n",
    "assert isinstance(list_of_excluded_subjects, list)  # It's a list.\n",
    "assert len(list_of_excluded_subjects) == 2  # Has right number of elements.\n",
    "assert list_of_excluded_subjects[0] == 'sub005'\n",
    "assert list_of_excluded_subjects[-1] == 'sub008'"
   ]
  },
  {
   "cell_type": "markdown",
   "id": "b115afc4",
   "metadata": {},
   "source": [
    "Now create a *list* of all subjects apart from those in the\n",
    "`list_of_excluded_subjects`.  Put this new list into the variable\n",
    "`good_subjects`.\n",
    "\n",
    "**Hint**: you can use a `for` loop."
   ]
  },
  {
   "cell_type": "code",
   "execution_count": 14,
   "id": "1963ae13",
   "metadata": {
    "execution": {
     "iopub.execute_input": "2022-04-01T13:14:00.467905Z",
     "iopub.status.busy": "2022-04-01T13:14:00.467254Z",
     "iopub.status.idle": "2022-04-01T13:14:00.469931Z",
     "shell.execute_reply": "2022-04-01T13:14:00.470359Z"
    }
   },
   "outputs": [],
   "source": [
    "good_subjects = []\n",
    "for i in range(all_subjects):\n",
    "    subject = list_of_subjects[i]\n",
    "    if subject in list_of_excluded_subjects:\n",
    "        continue\n",
    "    good_subjects.append(subject)\n",
    "# Show the result\n",
    "good_subjects"
   ]
  },
  {
   "cell_type": "code",
   "execution_count": 15,
   "id": "597b33ed",
   "metadata": {
    "execution": {
     "iopub.execute_input": "2022-04-01T13:14:00.474478Z",
     "iopub.status.busy": "2022-04-01T13:14:00.473874Z",
     "iopub.status.idle": "2022-04-01T13:14:00.475585Z",
     "shell.execute_reply": "2022-04-01T13:14:00.476250Z"
    }
   },
   "outputs": [],
   "source": [
    "# Test the list creation.\n",
    "assert 'good_subjects' in dir()  # Variable exists.\n",
    "assert isinstance(good_subjects, list)  # It's a list.\n",
    "assert len(good_subjects) == all_subjects - 2  # Has right number of elements.\n",
    "assert good_subjects[5] == 'sub006'\n",
    "assert good_subjects[-1] == 'sub029'"
   ]
  },
  {
   "cell_type": "markdown",
   "id": "b052e135",
   "metadata": {},
   "source": [
    "Do we expect the same identifier to be on the list of subjects twice? If not\n",
    "what other data structure could we use to contain the subjects?  Consider\n",
    "whether you could use this data structure to solve your code problem without a\n",
    "`for` loop.   See the [solution](first_analysis_solution.ipynb) for a way of\n",
    "doing this.\n",
    "\n",
    "**Hint**: you can use the `set` type and subtraction operator (with sets)."
   ]
  },
  {
   "cell_type": "code",
   "execution_count": 16,
   "id": "8c57ff48",
   "metadata": {
    "execution": {
     "iopub.execute_input": "2022-04-01T13:14:00.480762Z",
     "iopub.status.busy": "2022-04-01T13:14:00.480073Z",
     "iopub.status.idle": "2022-04-01T13:14:00.482517Z",
     "shell.execute_reply": "2022-04-01T13:14:00.482942Z"
    }
   },
   "outputs": [],
   "source": [
    "#- See the solution for a way of solving the problem above\n",
    "#- without using a `for` loop.\n",
    "good_subjects_again = set(list_of_subjects) - set(list_of_excluded_subjects)\n",
    "# Show the result\n",
    "good_subjects_again"
   ]
  },
  {
   "cell_type": "markdown",
   "id": "f8ef81c9",
   "metadata": {},
   "source": [
    "For the next step, we return to using the `good_subjects` list you should have\n",
    "built above.\n",
    "\n",
    "Now write out your ordered subjects to text file called `usable_subjects.txt`.\n",
    "Write one subject identifier per line."
   ]
  },
  {
   "cell_type": "code",
   "execution_count": 17,
   "id": "fbcecc38",
   "metadata": {
    "execution": {
     "iopub.execute_input": "2022-04-01T13:14:00.487357Z",
     "iopub.status.busy": "2022-04-01T13:14:00.486665Z",
     "iopub.status.idle": "2022-04-01T13:14:00.488757Z",
     "shell.execute_reply": "2022-04-01T13:14:00.489173Z"
    }
   },
   "outputs": [],
   "source": [
    "# Make sure we have a sorted list.\n",
    "good_list = sorted(good_subjects)\n",
    "# Open the file for writing\n",
    "fobj = open('usable_subjects.txt', 'wt')\n",
    "for i in range(len(good_list)):\n",
    "    fobj.write(good_list[i] + '\\n')\n",
    "# Don't forget to close the file.\n",
    "fobj.close()"
   ]
  },
  {
   "cell_type": "code",
   "execution_count": 18,
   "id": "30adbb6e",
   "metadata": {
    "execution": {
     "iopub.execute_input": "2022-04-01T13:14:00.493380Z",
     "iopub.status.busy": "2022-04-01T13:14:00.492701Z",
     "iopub.status.idle": "2022-04-01T13:14:00.495519Z",
     "shell.execute_reply": "2022-04-01T13:14:00.496034Z"
    }
   },
   "outputs": [],
   "source": [
    "# Some tests\n",
    "import os.path as op\n",
    "assert op.isfile('usable_subjects.txt')\n",
    "lines = open('usable_subjects.txt', 'rt').readlines()\n",
    "assert len(lines) == len(good_subjects)\n",
    "for i in range(len(lines)):\n",
    "    assert lines[i].strip() == good_subjects[i]"
   ]
  },
  {
   "cell_type": "markdown",
   "id": "426c7f3d",
   "metadata": {},
   "source": [
    "For the rest of the class we would like you to work on the following task:\n",
    "\n",
    "You are given a log file called `24719.f3_beh_CHYM.csv`.  It contains the\n",
    "results from a behavioral experiment.\n",
    "\n",
    "The first line in the file contains the header, giving the names of the\n",
    "variables.  Each line after the first corresponds to one trial of the\n",
    "experiment. We are interested in the average response time on trials where\n",
    "response was the 'space' key and displayed shape ('trial_shape') was a\n",
    "'red_square'.  Here are the first few lines of this file:\n",
    "\n",
    "```\n",
    "response,response_time,trial_ISI,trial_shape\n",
    "None,0,2000,red_star\n",
    "None,0,1000,red_circle\n",
    "None,0,2500,green_triangle\n",
    "None,0,1500,yellow_square\n",
    "```\n",
    "\n",
    "**Hints**\n",
    "\n",
    "- When you read lines from a text file, they end with a carriage return;\n",
    "- Remember `split`;\n",
    "- String are not numbers;\n",
    "\n",
    "See [the solution](first_analysis_solution.ipynb) for the — *solution*!"
   ]
  },
  {
   "cell_type": "code",
   "execution_count": 19,
   "id": "5b388a26",
   "metadata": {
    "execution": {
     "iopub.execute_input": "2022-04-01T13:14:00.501555Z",
     "iopub.status.busy": "2022-04-01T13:14:00.500879Z",
     "iopub.status.idle": "2022-04-01T13:14:00.503434Z",
     "shell.execute_reply": "2022-04-01T13:14:00.503988Z"
    }
   },
   "outputs": [],
   "source": [
    "total_rt = 0.\n",
    "n = 0\n",
    "fobj = open(\"24719.f3_beh_CHYM.csv\", 'rt')\n",
    "lines = fobj.readlines()\n",
    "for i in range(1, len(lines)):\n",
    "    line = lines[i].strip()\n",
    "    parts = line.split(',')\n",
    "    if parts[0] == 'space' and parts[3] == 'red_square':\n",
    "        total_rt += int(parts[1])\n",
    "        n += 1\n",
    "# Show the average reaction time.\n",
    "print(total_rt / n)"
   ]
  },
  {
   "cell_type": "code",
   "execution_count": 20,
   "id": "45a47d1b",
   "metadata": {
    "execution": {
     "iopub.execute_input": "2022-04-01T13:14:00.507765Z",
     "iopub.status.busy": "2022-04-01T13:14:00.507156Z",
     "iopub.status.idle": "2022-04-01T13:14:00.509179Z",
     "shell.execute_reply": "2022-04-01T13:14:00.509606Z"
    }
   },
   "outputs": [],
   "source": [
    "# A simple test for the correct answer.\n",
    "assert round(total_rt / n) == 382"
   ]
  },
  {
   "cell_type": "markdown",
   "id": "c24a187c",
   "metadata": {},
   "source": [
    "## Bonus exercise\n",
    "\n",
    "Have a look at the Pandas package especially the `read_csv` method. Could you\n",
    "solve the previous exercise using this functionality?\n",
    "\n",
    "See the [pandas solution](first_analysis_pandas.Rmd) for a solution using Pandas."
   ]
  },
  {
   "cell_type": "markdown",
   "id": "4b2d019e",
   "metadata": {},
   "source": [
    "## Some final cleanup\n",
    "\n",
    "Just to be tidy, let us delete the file we created above:"
   ]
  },
  {
   "cell_type": "code",
   "execution_count": 21,
   "id": "e817a154",
   "metadata": {
    "execution": {
     "iopub.execute_input": "2022-04-01T13:14:00.513481Z",
     "iopub.status.busy": "2022-04-01T13:14:00.512873Z",
     "iopub.status.idle": "2022-04-01T13:14:00.514869Z",
     "shell.execute_reply": "2022-04-01T13:14:00.515289Z"
    }
   },
   "outputs": [],
   "source": [
    "# Delete the usable_subjects.txt file.\n",
    "# Just in case we are re-running the notebook.\n",
    "import os\n",
    "os.unlink('usable_subjects.txt')"
   ]
  }
 ],
 "metadata": {
  "jupytext": {
   "notebook_metadata_filter": "all,-language_info",
   "split_at_heading": true,
   "text_representation": {
    "extension": ".Rmd",
    "format_name": "rmarkdown",
    "format_version": "1.2",
    "jupytext_version": "1.13.7"
   }
  },
  "kernelspec": {
   "display_name": "Python 3",
   "language": "python",
   "name": "python3"
  },
  "language_info": {
   "codemirror_mode": {
    "name": "ipython",
    "version": 3
   },
   "file_extension": ".py",
   "mimetype": "text/x-python",
   "name": "python",
   "nbconvert_exporter": "python",
   "pygments_lexer": "ipython3",
   "version": "3.8.13"
  }
 },
 "nbformat": 4,
 "nbformat_minor": 5
}
