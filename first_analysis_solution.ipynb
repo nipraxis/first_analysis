{
 "cells": [
  {
   "cell_type": "markdown",
   "id": "f190e170",
   "metadata": {},
   "source": [
    "# Getting ready for an analysis"
   ]
  },
  {
   "cell_type": "markdown",
   "id": "739cc53f",
   "metadata": {},
   "source": [
    "[Chris\n",
    "Gorgolewski](https://reproducibility.stanford.edu/team/chris-gorgolewski)\n",
    "kindly gave this exercise in our Berkeley courses.\n",
    "\n",
    "The exercise gets you started on:\n",
    "\n",
    "* using variables;\n",
    "* numbers and strings;\n",
    "* opening and reading from files.\n"
   ]
  },
  {
   "cell_type": "markdown",
   "id": "93c6fffd",
   "metadata": {},
   "source": [
    "## Introduction\n",
    "\n",
    "Fill in the code cells containing `...` in the cells below.\n",
    "\n",
    "When you have filled in the code, run any tests for the cell, in the cell\n",
    "below.  Some cells don't have test cells below them.\n",
    "\n",
    "If your code was not correct, the tests will give an `AssertionError`.  If the\n",
    "code appears to be correct, the test cell will run without error.\n"
   ]
  },
  {
   "cell_type": "markdown",
   "id": "9fc2e52d",
   "metadata": {},
   "source": [
    "## The analysis"
   ]
  },
  {
   "cell_type": "markdown",
   "id": "3bc38ade",
   "metadata": {},
   "source": [
    "Define a `number_of_subjects` variable and assign value 20 to it."
   ]
  },
  {
   "cell_type": "code",
   "execution_count": 1,
   "id": "4c75c578",
   "metadata": {
    "execution": {
     "iopub.execute_input": "2022-03-31T10:41:28.281309Z",
     "iopub.status.busy": "2022-03-31T10:41:28.280548Z",
     "iopub.status.idle": "2022-03-31T10:41:28.282479Z",
     "shell.execute_reply": "2022-03-31T10:41:28.282912Z"
    }
   },
   "outputs": [],
   "source": [
    "#- Your code here.\n",
    "number_of_subjects = 20"
   ]
  },
  {
   "cell_type": "markdown",
   "id": "2f4cbd90",
   "metadata": {},
   "source": [
    "Now run the cell below to test the code above.  Remember, if it gives an `AssertionError`, then there's a problem with your code above.  If it runs without error, your code above probably gave the right answer."
   ]
  },
  {
   "cell_type": "code",
   "execution_count": 2,
   "id": "8b26eba2",
   "metadata": {
    "execution": {
     "iopub.execute_input": "2022-03-31T10:41:28.286911Z",
     "iopub.status.busy": "2022-03-31T10:41:28.286299Z",
     "iopub.status.idle": "2022-03-31T10:41:28.288114Z",
     "shell.execute_reply": "2022-03-31T10:41:28.288717Z"
    },
    "lines_to_next_cell": 2
   },
   "outputs": [],
   "source": [
    "# Run this cell to test the cell above.\n",
    "assert 'number_of_subjects' in dir()  # Variable exists\n",
    "assert number_of_subjects is not ...  # Variable changed from template\n",
    "assert number_of_subjects == 20  # Variable has correct value."
   ]
  },
  {
   "cell_type": "markdown",
   "id": "d9875401",
   "metadata": {},
   "source": [
    "Display the statement: `We have <x> subjects` where `<x>` is the number of\n",
    "subjects.  For example, if you had 10 subjects (you don't) you should see `We have 10 subjects`."
   ]
  },
  {
   "cell_type": "code",
   "execution_count": 3,
   "id": "25a5ec4d",
   "metadata": {
    "execution": {
     "iopub.execute_input": "2022-03-31T10:41:28.292324Z",
     "iopub.status.busy": "2022-03-31T10:41:28.291727Z",
     "iopub.status.idle": "2022-03-31T10:41:28.294203Z",
     "shell.execute_reply": "2022-03-31T10:41:28.294673Z"
    }
   },
   "outputs": [],
   "source": [
    "#- Your code here\n",
    "print(\"We have {number_of_subjects} subjects\")"
   ]
  },
  {
   "cell_type": "markdown",
   "id": "0b697c6a",
   "metadata": {},
   "source": [
    "Define two variables: `control_subjects` and `drug_subjects` and assign values\n",
    "18 and 22 respectively."
   ]
  },
  {
   "cell_type": "code",
   "execution_count": 4,
   "id": "2b89fe8c",
   "metadata": {
    "execution": {
     "iopub.execute_input": "2022-03-31T10:41:28.298222Z",
     "iopub.status.busy": "2022-03-31T10:41:28.297632Z",
     "iopub.status.idle": "2022-03-31T10:41:28.299438Z",
     "shell.execute_reply": "2022-03-31T10:41:28.299893Z"
    }
   },
   "outputs": [],
   "source": [
    "#- Your code here\n",
    "control_subjects = 18\n",
    "drug_subjects = 12"
   ]
  },
  {
   "cell_type": "code",
   "execution_count": 5,
   "id": "123e9b3b",
   "metadata": {
    "execution": {
     "iopub.execute_input": "2022-03-31T10:41:28.304022Z",
     "iopub.status.busy": "2022-03-31T10:41:28.303415Z",
     "iopub.status.idle": "2022-03-31T10:41:28.305429Z",
     "shell.execute_reply": "2022-03-31T10:41:28.305849Z"
    }
   },
   "outputs": [],
   "source": [
    "# Run this cell to test the cell above.\n",
    "assert 'control_subjects' in dir()  # Variable exists\n",
    "assert 'drug_subjects' in dir()  # Variable exists\n",
    "assert control_subjects == 18  # Variable has correct value.\n",
    "assert drug_subjects == 12  # Variable has correct value."
   ]
  },
  {
   "cell_type": "markdown",
   "id": "ca1ea1e8",
   "metadata": {},
   "source": [
    "Now define a new variable `all_subjects` which is a sum of the two."
   ]
  },
  {
   "cell_type": "code",
   "execution_count": 6,
   "id": "16dc8a3b",
   "metadata": {
    "execution": {
     "iopub.execute_input": "2022-03-31T10:41:28.309299Z",
     "iopub.status.busy": "2022-03-31T10:41:28.308693Z",
     "iopub.status.idle": "2022-03-31T10:41:28.310531Z",
     "shell.execute_reply": "2022-03-31T10:41:28.310980Z"
    }
   },
   "outputs": [],
   "source": [
    "#- Your code here\n",
    "all_subjects = control_subjects + drug_subjects"
   ]
  },
  {
   "cell_type": "code",
   "execution_count": 7,
   "id": "d52e90fb",
   "metadata": {
    "execution": {
     "iopub.execute_input": "2022-03-31T10:41:28.314485Z",
     "iopub.status.busy": "2022-03-31T10:41:28.313847Z",
     "iopub.status.idle": "2022-03-31T10:41:28.315776Z",
     "shell.execute_reply": "2022-03-31T10:41:28.316267Z"
    }
   },
   "outputs": [],
   "source": [
    "# Run this cell to test the cell above.\n",
    "assert 'all_subjects' in dir()  # Variable exists\n",
    "assert all_subjects == 30  # Variable has correct value."
   ]
  },
  {
   "cell_type": "markdown",
   "id": "b4bb77a9",
   "metadata": {},
   "source": [
    "Now have a look at the textbook page on [string formatting](https://textbook.nipraxis.org/string_formatting.html).\n",
    "\n",
    "The directories for each subject have names:\n",
    "\n",
    "- `sub000`\n",
    "- `sub001`\n",
    "- etc, up to\n",
    "- `sub029`\n",
    "\n",
    "Here's how to build a string for subject number 20, using string formatting\n",
    "(see the page above):"
   ]
  },
  {
   "cell_type": "code",
   "execution_count": 8,
   "id": "346d2fa1",
   "metadata": {
    "execution": {
     "iopub.execute_input": "2022-03-31T10:41:28.324913Z",
     "iopub.status.busy": "2022-03-31T10:41:28.324312Z",
     "iopub.status.idle": "2022-03-31T10:41:28.326966Z",
     "shell.execute_reply": "2022-03-31T10:41:28.327383Z"
    }
   },
   "outputs": [],
   "source": [
    "val = 20\n",
    "# Make a suitable string using the value of `val`\n",
    "f'sub{val:03d}'"
   ]
  },
  {
   "cell_type": "markdown",
   "id": "af634663",
   "metadata": {},
   "source": [
    "Now use a `for` loop to print the subject identifiers for each subject, each subject identifier on one line.  This will start:\n",
    "\n",
    "```\n",
    "sub000\n",
    "sub001\n",
    "sub002\n",
    "```"
   ]
  },
  {
   "cell_type": "code",
   "execution_count": 9,
   "id": "cc097020",
   "metadata": {
    "execution": {
     "iopub.execute_input": "2022-03-31T10:41:28.331484Z",
     "iopub.status.busy": "2022-03-31T10:41:28.330875Z",
     "iopub.status.idle": "2022-03-31T10:41:28.333347Z",
     "shell.execute_reply": "2022-03-31T10:41:28.333768Z"
    }
   },
   "outputs": [],
   "source": [
    "#- Starting at 0 and going up to (not including) the value of `all_subjects`\n",
    "for i in range(0, all_subjects):\n",
    "    print(f\"sub{i:03d}\")"
   ]
  },
  {
   "cell_type": "markdown",
   "id": "a118bbe4",
   "metadata": {},
   "source": [
    "Create a variable `list_of_subjects` containing a list of identifiers you\n",
    "just printed."
   ]
  },
  {
   "cell_type": "code",
   "execution_count": 10,
   "id": "d682a305",
   "metadata": {
    "execution": {
     "iopub.execute_input": "2022-03-31T10:41:28.338624Z",
     "iopub.status.busy": "2022-03-31T10:41:28.338011Z",
     "iopub.status.idle": "2022-03-31T10:41:28.340549Z",
     "shell.execute_reply": "2022-03-31T10:41:28.340969Z"
    }
   },
   "outputs": [],
   "source": [
    "list_of_subjects = []\n",
    "for i in range(0, all_subjects):\n",
    "    list_of_subjects.append(f\"sub{i:03d}\")\n",
    "# Show the result\n",
    "list_of_subjects"
   ]
  },
  {
   "cell_type": "code",
   "execution_count": 11,
   "id": "08ce1013",
   "metadata": {
    "execution": {
     "iopub.execute_input": "2022-03-31T10:41:28.345223Z",
     "iopub.status.busy": "2022-03-31T10:41:28.344581Z",
     "iopub.status.idle": "2022-03-31T10:41:28.346568Z",
     "shell.execute_reply": "2022-03-31T10:41:28.347028Z"
    }
   },
   "outputs": [],
   "source": [
    "# Test the list creation.\n",
    "assert 'list_of_subjects' in dir()  # Variable exists.\n",
    "assert isinstance(list_of_subjects, list)  # It's a list.\n",
    "assert len(list_of_subjects) == all_subjects  # Has right number of elements.\n",
    "# Test some elements.\n",
    "assert list_of_subjects[1] == 'sub001'\n",
    "assert list_of_subjects[12] == 'sub012'\n",
    "assert list_of_subjects[-1] == 'sub029'"
   ]
  },
  {
   "cell_type": "markdown",
   "id": "c39e1aae",
   "metadata": {},
   "source": [
    "Unfortunately the data from some subjects were corrupted. Create another\n",
    "variable `list_of_excluded_subjects` containing the strings `'sub005'` and\n",
    "`'sub008'`."
   ]
  },
  {
   "cell_type": "code",
   "execution_count": 12,
   "id": "4f04925e",
   "metadata": {
    "execution": {
     "iopub.execute_input": "2022-03-31T10:41:28.350702Z",
     "iopub.status.busy": "2022-03-31T10:41:28.350047Z",
     "iopub.status.idle": "2022-03-31T10:41:28.351954Z",
     "shell.execute_reply": "2022-03-31T10:41:28.352368Z"
    }
   },
   "outputs": [],
   "source": [
    "list_of_excluded_subjects = ['sub005', 'sub008']"
   ]
  },
  {
   "cell_type": "code",
   "execution_count": 13,
   "id": "9993cbfd",
   "metadata": {
    "execution": {
     "iopub.execute_input": "2022-03-31T10:41:28.356245Z",
     "iopub.status.busy": "2022-03-31T10:41:28.355663Z",
     "iopub.status.idle": "2022-03-31T10:41:28.357556Z",
     "shell.execute_reply": "2022-03-31T10:41:28.358054Z"
    }
   },
   "outputs": [],
   "source": [
    "# Test the list creation.\n",
    "assert 'list_of_excluded_subjects' in dir()  # Variable exists.\n",
    "assert isinstance(list_of_excluded_subjects, list)  # It's a list.\n",
    "assert len(list_of_excluded_subjects) == 2  # Has right number of elements.\n",
    "assert list_of_excluded_subjects[0] == 'sub005'\n",
    "assert list_of_excluded_subjects[-1] == 'sub008'"
   ]
  },
  {
   "cell_type": "markdown",
   "id": "6494ff59",
   "metadata": {},
   "source": [
    "Now create a *list* of all subjects apart from those in the\n",
    "`list_of_excluded_subjects`.  Put this new list into the variable\n",
    "`good_subjects`.\n",
    "\n",
    "**Hint**: you can use a `for` loop."
   ]
  },
  {
   "cell_type": "code",
   "execution_count": 14,
   "id": "6f3f4e97",
   "metadata": {
    "execution": {
     "iopub.execute_input": "2022-03-31T10:41:28.362744Z",
     "iopub.status.busy": "2022-03-31T10:41:28.362110Z",
     "iopub.status.idle": "2022-03-31T10:41:28.365151Z",
     "shell.execute_reply": "2022-03-31T10:41:28.365648Z"
    }
   },
   "outputs": [],
   "source": [
    "good_subjects = []\n",
    "for i in range(all_subjects):\n",
    "    subject = list_of_subjects[i]\n",
    "    if subject in list_of_excluded_subjects:\n",
    "        continue\n",
    "    good_subjects.append(subject)\n",
    "# Show the result\n",
    "good_subjects"
   ]
  },
  {
   "cell_type": "code",
   "execution_count": 15,
   "id": "e5418dd0",
   "metadata": {
    "execution": {
     "iopub.execute_input": "2022-03-31T10:41:28.369904Z",
     "iopub.status.busy": "2022-03-31T10:41:28.369277Z",
     "iopub.status.idle": "2022-03-31T10:41:28.371114Z",
     "shell.execute_reply": "2022-03-31T10:41:28.371530Z"
    }
   },
   "outputs": [],
   "source": [
    "# Test the list creation.\n",
    "assert 'good_subjects' in dir()  # Variable exists.\n",
    "assert isinstance(good_subjects, list)  # It's a list.\n",
    "assert len(good_subjects) == all_subjects - 2  # Has right number of elements.\n",
    "assert good_subjects[5] == 'sub006'\n",
    "assert good_subjects[-1] == 'sub029'"
   ]
  },
  {
   "cell_type": "markdown",
   "id": "74ae4838",
   "metadata": {},
   "source": [
    "Do we expect the same identifier to be on the list of subjects twice? If not\n",
    "what other data structure could we use to contain the subjects?  Consider\n",
    "whether you could use this data structure to solve your code problem without a\n",
    "`for` loop.   See the [solution](first_analysis_solution.ipynb) for a way of\n",
    "doing this."
   ]
  },
  {
   "cell_type": "code",
   "execution_count": 16,
   "id": "03457174",
   "metadata": {
    "execution": {
     "iopub.execute_input": "2022-03-31T10:41:28.376069Z",
     "iopub.status.busy": "2022-03-31T10:41:28.375379Z",
     "iopub.status.idle": "2022-03-31T10:41:28.378013Z",
     "shell.execute_reply": "2022-03-31T10:41:28.378486Z"
    }
   },
   "outputs": [],
   "source": [
    "#- See the solution for a way of solving the problem above\n",
    "#- without using a `for` loop.\n",
    "good_subjects_again = set(list_of_subjects) - set(list_of_excluded_subjects)\n",
    "# Show the result\n",
    "good_subjects_again"
   ]
  },
  {
   "cell_type": "markdown",
   "id": "a14ca512",
   "metadata": {},
   "source": [
    "For the next step, we return to using the `good_subjects` list you should have\n",
    "built above.\n",
    "\n",
    "Now write out your ordered subjects to text file called `usable_subjects.txt`.\n",
    "Write one subject identifier per line."
   ]
  },
  {
   "cell_type": "code",
   "execution_count": 17,
   "id": "8ad388e6",
   "metadata": {
    "execution": {
     "iopub.execute_input": "2022-03-31T10:41:28.382427Z",
     "iopub.status.busy": "2022-03-31T10:41:28.381776Z",
     "iopub.status.idle": "2022-03-31T10:41:28.384184Z",
     "shell.execute_reply": "2022-03-31T10:41:28.384611Z"
    }
   },
   "outputs": [],
   "source": [
    "# Make sure we have a sorted list.\n",
    "good_list = sorted(good_subjects)\n",
    "# Open the file for writing\n",
    "fobj = open('usable_subjects.txt', 'wt')\n",
    "for i in range(len(good_list)):\n",
    "    fobj.write(good_list[i] + '\\n')\n",
    "# Don't forget to close the file.\n",
    "fobj.close()"
   ]
  },
  {
   "cell_type": "code",
   "execution_count": 18,
   "id": "04b26a09",
   "metadata": {
    "execution": {
     "iopub.execute_input": "2022-03-31T10:41:28.388969Z",
     "iopub.status.busy": "2022-03-31T10:41:28.388375Z",
     "iopub.status.idle": "2022-03-31T10:41:28.390846Z",
     "shell.execute_reply": "2022-03-31T10:41:28.391263Z"
    }
   },
   "outputs": [],
   "source": [
    "# Some tests\n",
    "import os.path as op\n",
    "assert op.isfile('usable_subjects.txt')\n",
    "contents = open('usable_subjects.txt', 'rt').read()\n",
    "lines = contents.splitlines()\n",
    "assert len(lines) == len(good_subjects)\n",
    "for i in range(len(lines)):\n",
    "    assert lines[i] == good_subjects[i]"
   ]
  },
  {
   "cell_type": "markdown",
   "id": "1330bcfa",
   "metadata": {},
   "source": [
    "For the rest of the class we would like you to work on the following task:\n",
    "\n",
    "You are given a log file called `24719.f3_beh_CHYM.csv`.  It contains the\n",
    "results from a behavioral experiment.\n",
    "\n",
    "The first line in the file contains the header, giving the names of the\n",
    "variables.  Each line after the first corresponds to one trial of the\n",
    "experiment. We are interested in the average response time on trials where\n",
    "response was the “space” key and displayed shape (“trial_shape”) was a red\n",
    "square.  Here are the first few lines of this file:\n",
    "\n",
    "```\n",
    "response,response_time,trial_ISI,trial_shape\n",
    "None,0,2000,red_star\n",
    "None,0,1000,red_circle\n",
    "None,0,2500,green_triangle\n",
    "None,0,1500,yellow_square\n",
    "```\n",
    "\n",
    "**Hints**\n",
    "\n",
    "- When you read lines from a text file, they end with a carriage return;\n",
    "- Remember `split`;\n",
    "- String are not numbers;\n",
    "\n",
    "See [the solution](first_analysis_solution.ipynb) for the — *solution*!"
   ]
  },
  {
   "cell_type": "code",
   "execution_count": 19,
   "id": "6d87df0d",
   "metadata": {
    "execution": {
     "iopub.execute_input": "2022-03-31T10:41:28.396393Z",
     "iopub.status.busy": "2022-03-31T10:41:28.395719Z",
     "iopub.status.idle": "2022-03-31T10:41:28.398089Z",
     "shell.execute_reply": "2022-03-31T10:41:28.398605Z"
    }
   },
   "outputs": [],
   "source": [
    "total_rt = 0.\n",
    "n = 0\n",
    "fobj = open(\"24719.f3_beh_CHYM.csv\", 'rt')\n",
    "lines = fobj.readlines()\n",
    "for i in range(1, len(lines)):\n",
    "    line = lines[i].strip()\n",
    "    parts = line.split(',')\n",
    "    if parts[0] == 'space' and parts[3] == 'red_square':\n",
    "        total_rt += int(parts[1])\n",
    "        n += 1\n",
    "# Show the average reaction time.\n",
    "print(total_rt / n)"
   ]
  },
  {
   "cell_type": "code",
   "execution_count": 20,
   "id": "5a9de9d0",
   "metadata": {
    "execution": {
     "iopub.execute_input": "2022-03-31T10:41:28.402026Z",
     "iopub.status.busy": "2022-03-31T10:41:28.401432Z",
     "iopub.status.idle": "2022-03-31T10:41:28.403230Z",
     "shell.execute_reply": "2022-03-31T10:41:28.403642Z"
    }
   },
   "outputs": [],
   "source": [
    "# A simple test for the correct answer.\n",
    "assert round(total_rt / n) == 382"
   ]
  },
  {
   "cell_type": "markdown",
   "id": "add326e0",
   "metadata": {},
   "source": [
    "## Bonus exercise\n",
    "\n",
    "Have a look at the Pandas package especially the `read_csv` method. Could you\n",
    "solve the previous exercise using this functionality?"
   ]
  },
  {
   "cell_type": "markdown",
   "id": "aa63a486",
   "metadata": {},
   "source": [
    "## Some final cleanup\n",
    "\n",
    "Just to be tidy, let us delete the file we created above:"
   ]
  },
  {
   "cell_type": "code",
   "execution_count": 21,
   "id": "b2f6f684",
   "metadata": {
    "execution": {
     "iopub.execute_input": "2022-03-31T10:41:28.407118Z",
     "iopub.status.busy": "2022-03-31T10:41:28.406480Z",
     "iopub.status.idle": "2022-03-31T10:41:28.408539Z",
     "shell.execute_reply": "2022-03-31T10:41:28.408953Z"
    }
   },
   "outputs": [],
   "source": [
    "# Delete the usable_subjects.txt file.\n",
    "# Just in case we are re-running the notebook.\n",
    "import os\n",
    "os.unlink('usable_subjects.txt')"
   ]
  }
 ],
 "metadata": {
  "jupytext": {
   "notebook_metadata_filter": "all,-language_info",
   "split_at_heading": true,
   "text_representation": {
    "extension": ".Rmd",
    "format_name": "rmarkdown",
    "format_version": "1.2",
    "jupytext_version": "1.13.7"
   }
  },
  "kernelspec": {
   "display_name": "Python 3",
   "language": "python",
   "name": "python3"
  },
  "language_info": {
   "codemirror_mode": {
    "name": "ipython",
    "version": 3
   },
   "file_extension": ".py",
   "mimetype": "text/x-python",
   "name": "python",
   "nbconvert_exporter": "python",
   "pygments_lexer": "ipython3",
   "version": "3.8.13"
  }
 },
 "nbformat": 4,
 "nbformat_minor": 5
}
