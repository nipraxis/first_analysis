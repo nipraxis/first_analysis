{
 "cells": [
  {
   "cell_type": "markdown",
   "id": "256193da",
   "metadata": {},
   "source": [
    "# Getting ready for an analysis"
   ]
  },
  {
   "cell_type": "markdown",
   "id": "06677015",
   "metadata": {},
   "source": [
    "[Chris\n",
    "Gorgolewski](https://reproducibility.stanford.edu/team/chris-gorgolewski)\n",
    "kindly gave this exercise in our Berkeley courses.\n",
    "\n",
    "The exercise gets you started on:\n",
    "\n",
    "* using variables;\n",
    "* numbers and strings;\n",
    "* opening and reading from files.\n"
   ]
  },
  {
   "cell_type": "markdown",
   "id": "57c8aeeb",
   "metadata": {},
   "source": [
    "## Introduction\n",
    "\n",
    "Fill in the code cells containing `...` in the cells below.\n",
    "\n",
    "When you have filled in the code, run any tests for the cell, in the cell\n",
    "below.  Some cells don't have test cells below them.\n",
    "\n",
    "If your code was not correct, the tests will give an `AssertionError`.  If the\n",
    "code appears to be correct, the test cell will run without error.\n"
   ]
  },
  {
   "cell_type": "markdown",
   "id": "08724faf",
   "metadata": {},
   "source": [
    "## The analysis"
   ]
  },
  {
   "cell_type": "markdown",
   "id": "62c7e647",
   "metadata": {},
   "source": [
    "Define a `number_of_subjects` variable and assign value 20 to it."
   ]
  },
  {
   "cell_type": "code",
   "execution_count": 1,
   "id": "ec3515f9",
   "metadata": {
    "execution": {
     "iopub.execute_input": "2022-03-31T14:43:18.653648Z",
     "iopub.status.busy": "2022-03-31T14:43:18.652972Z",
     "iopub.status.idle": "2022-03-31T14:43:18.655170Z",
     "shell.execute_reply": "2022-03-31T14:43:18.655592Z"
    }
   },
   "outputs": [],
   "source": [
    "#- Your code here.\n",
    "number_of_subjects = 20"
   ]
  },
  {
   "cell_type": "markdown",
   "id": "ea7a3038",
   "metadata": {},
   "source": [
    "Now run the cell below to test the code above.  Remember, if it gives an `AssertionError`, then there's a problem with your code above.  If it runs without error, your code above probably gave the right answer."
   ]
  },
  {
   "cell_type": "code",
   "execution_count": 2,
   "id": "876f30b4",
   "metadata": {
    "execution": {
     "iopub.execute_input": "2022-03-31T14:43:18.659671Z",
     "iopub.status.busy": "2022-03-31T14:43:18.659068Z",
     "iopub.status.idle": "2022-03-31T14:43:18.660992Z",
     "shell.execute_reply": "2022-03-31T14:43:18.661410Z"
    },
    "lines_to_next_cell": 2
   },
   "outputs": [],
   "source": [
    "# Run this cell to test the cell above.\n",
    "assert 'number_of_subjects' in dir()  # Variable exists\n",
    "assert number_of_subjects is not ...  # Variable changed from template\n",
    "assert number_of_subjects == 20  # Variable has correct value."
   ]
  },
  {
   "cell_type": "markdown",
   "id": "5368c4d2",
   "metadata": {},
   "source": [
    "Display the statement: `We have <x> subjects` where `<x>` is the number of\n",
    "subjects.  For example, if you had 10 subjects (you don't) you should see `We have 10 subjects`."
   ]
  },
  {
   "cell_type": "code",
   "execution_count": 3,
   "id": "5427c623",
   "metadata": {
    "execution": {
     "iopub.execute_input": "2022-03-31T14:43:18.664869Z",
     "iopub.status.busy": "2022-03-31T14:43:18.664274Z",
     "iopub.status.idle": "2022-03-31T14:43:18.666739Z",
     "shell.execute_reply": "2022-03-31T14:43:18.667149Z"
    }
   },
   "outputs": [],
   "source": [
    "#- Your code here\n",
    "print(\"We have {number_of_subjects} subjects\")"
   ]
  },
  {
   "cell_type": "markdown",
   "id": "536e6f93",
   "metadata": {},
   "source": [
    "Define two variables: `control_subjects` and `treatment_subjects` and assign values\n",
    "18 and 12 respectively."
   ]
  },
  {
   "cell_type": "code",
   "execution_count": 4,
   "id": "b26be8d5",
   "metadata": {
    "execution": {
     "iopub.execute_input": "2022-03-31T14:43:18.670643Z",
     "iopub.status.busy": "2022-03-31T14:43:18.670053Z",
     "iopub.status.idle": "2022-03-31T14:43:18.671895Z",
     "shell.execute_reply": "2022-03-31T14:43:18.672309Z"
    }
   },
   "outputs": [],
   "source": [
    "#- Your code here\n",
    "control_subjects = 18\n",
    "treatment_subjects = 12"
   ]
  },
  {
   "cell_type": "code",
   "execution_count": 5,
   "id": "f7408437",
   "metadata": {
    "execution": {
     "iopub.execute_input": "2022-03-31T14:43:18.676302Z",
     "iopub.status.busy": "2022-03-31T14:43:18.675638Z",
     "iopub.status.idle": "2022-03-31T14:43:18.677423Z",
     "shell.execute_reply": "2022-03-31T14:43:18.677834Z"
    }
   },
   "outputs": [],
   "source": [
    "# Run this cell to test the cell above.\n",
    "assert 'control_subjects' in dir()  # Variable exists\n",
    "assert 'treatment_subjects' in dir()  # Variable exists\n",
    "assert control_subjects == 18  # Variable has correct value.\n",
    "assert treatment_subjects == 12  # Variable has correct value."
   ]
  },
  {
   "cell_type": "markdown",
   "id": "3b8f854e",
   "metadata": {},
   "source": [
    "Now define a new variable `all_subjects` which is a sum of the two."
   ]
  },
  {
   "cell_type": "code",
   "execution_count": 6,
   "id": "a2af04a0",
   "metadata": {
    "execution": {
     "iopub.execute_input": "2022-03-31T14:43:18.681179Z",
     "iopub.status.busy": "2022-03-31T14:43:18.680596Z",
     "iopub.status.idle": "2022-03-31T14:43:18.682334Z",
     "shell.execute_reply": "2022-03-31T14:43:18.682808Z"
    }
   },
   "outputs": [],
   "source": [
    "#- Your code here\n",
    "all_subjects = control_subjects + treatment_subjects"
   ]
  },
  {
   "cell_type": "code",
   "execution_count": 7,
   "id": "4590b76a",
   "metadata": {
    "execution": {
     "iopub.execute_input": "2022-03-31T14:43:18.686209Z",
     "iopub.status.busy": "2022-03-31T14:43:18.685574Z",
     "iopub.status.idle": "2022-03-31T14:43:18.687972Z",
     "shell.execute_reply": "2022-03-31T14:43:18.687529Z"
    }
   },
   "outputs": [],
   "source": [
    "# Run this cell to test the cell above.\n",
    "assert 'all_subjects' in dir()  # Variable exists\n",
    "assert all_subjects == 30  # Variable has correct value."
   ]
  },
  {
   "cell_type": "markdown",
   "id": "e5e6f56a",
   "metadata": {},
   "source": [
    "Now have a look at the textbook page on [string formatting](https://textbook.nipraxis.org/string_formatting.html).\n",
    "\n",
    "The directories for each subject have names:\n",
    "\n",
    "- `sub000`\n",
    "- `sub001`\n",
    "- etc, up to\n",
    "- `sub029`\n",
    "\n",
    "Here's how to build a string for subject number 20, using string formatting\n",
    "(see the page above):"
   ]
  },
  {
   "cell_type": "code",
   "execution_count": 8,
   "id": "ee3173f1",
   "metadata": {
    "execution": {
     "iopub.execute_input": "2022-03-31T14:43:18.696689Z",
     "iopub.status.busy": "2022-03-31T14:43:18.696077Z",
     "iopub.status.idle": "2022-03-31T14:43:18.698638Z",
     "shell.execute_reply": "2022-03-31T14:43:18.699051Z"
    }
   },
   "outputs": [],
   "source": [
    "val = 20\n",
    "# Make a suitable string using the value of `val`\n",
    "f'sub{val:03d}'"
   ]
  },
  {
   "cell_type": "markdown",
   "id": "6de30210",
   "metadata": {},
   "source": [
    "Now use a `for` loop to print the subject identifiers for each subject, each subject identifier on one line.  This will start:\n",
    "\n",
    "```\n",
    "sub000\n",
    "sub001\n",
    "sub002\n",
    "```"
   ]
  },
  {
   "cell_type": "code",
   "execution_count": 9,
   "id": "34ca756d",
   "metadata": {
    "execution": {
     "iopub.execute_input": "2022-03-31T14:43:18.703149Z",
     "iopub.status.busy": "2022-03-31T14:43:18.702518Z",
     "iopub.status.idle": "2022-03-31T14:43:18.704764Z",
     "shell.execute_reply": "2022-03-31T14:43:18.705175Z"
    }
   },
   "outputs": [],
   "source": [
    "#- Starting at 0 and going up to (not including) the value of `all_subjects`\n",
    "for i in range(0, all_subjects):\n",
    "    print(f\"sub{i:03d}\")"
   ]
  },
  {
   "cell_type": "markdown",
   "id": "540ca11a",
   "metadata": {},
   "source": [
    "Create a variable `list_of_subjects` containing a list of identifiers you\n",
    "just printed."
   ]
  },
  {
   "cell_type": "code",
   "execution_count": 10,
   "id": "cd8f9c1c",
   "metadata": {
    "execution": {
     "iopub.execute_input": "2022-03-31T14:43:18.710111Z",
     "iopub.status.busy": "2022-03-31T14:43:18.709459Z",
     "iopub.status.idle": "2022-03-31T14:43:18.711921Z",
     "shell.execute_reply": "2022-03-31T14:43:18.712331Z"
    }
   },
   "outputs": [],
   "source": [
    "list_of_subjects = []\n",
    "for i in range(0, all_subjects):\n",
    "    list_of_subjects.append(f\"sub{i:03d}\")\n",
    "# Show the result\n",
    "list_of_subjects"
   ]
  },
  {
   "cell_type": "code",
   "execution_count": 11,
   "id": "553c0503",
   "metadata": {
    "execution": {
     "iopub.execute_input": "2022-03-31T14:43:18.716516Z",
     "iopub.status.busy": "2022-03-31T14:43:18.715926Z",
     "iopub.status.idle": "2022-03-31T14:43:18.717787Z",
     "shell.execute_reply": "2022-03-31T14:43:18.718219Z"
    }
   },
   "outputs": [],
   "source": [
    "# Test the list creation.\n",
    "assert 'list_of_subjects' in dir()  # Variable exists.\n",
    "assert isinstance(list_of_subjects, list)  # It's a list.\n",
    "assert len(list_of_subjects) == all_subjects  # Has right number of elements.\n",
    "# Test some elements.\n",
    "assert list_of_subjects[1] == 'sub001'\n",
    "assert list_of_subjects[12] == 'sub012'\n",
    "assert list_of_subjects[-1] == 'sub029'"
   ]
  },
  {
   "cell_type": "markdown",
   "id": "58184c9b",
   "metadata": {},
   "source": [
    "Unfortunately the data from some subjects were corrupted. Create another\n",
    "variable `list_of_excluded_subjects` containing the strings `'sub005'` and\n",
    "`'sub008'`."
   ]
  },
  {
   "cell_type": "code",
   "execution_count": 12,
   "id": "2f216f6a",
   "metadata": {
    "execution": {
     "iopub.execute_input": "2022-03-31T14:43:18.721788Z",
     "iopub.status.busy": "2022-03-31T14:43:18.721207Z",
     "iopub.status.idle": "2022-03-31T14:43:18.723040Z",
     "shell.execute_reply": "2022-03-31T14:43:18.723478Z"
    }
   },
   "outputs": [],
   "source": [
    "list_of_excluded_subjects = ['sub005', 'sub008']"
   ]
  },
  {
   "cell_type": "code",
   "execution_count": 13,
   "id": "72336cce",
   "metadata": {
    "execution": {
     "iopub.execute_input": "2022-03-31T14:43:18.727691Z",
     "iopub.status.busy": "2022-03-31T14:43:18.727098Z",
     "iopub.status.idle": "2022-03-31T14:43:18.728933Z",
     "shell.execute_reply": "2022-03-31T14:43:18.729349Z"
    }
   },
   "outputs": [],
   "source": [
    "# Test the list creation.\n",
    "assert 'list_of_excluded_subjects' in dir()  # Variable exists.\n",
    "assert isinstance(list_of_excluded_subjects, list)  # It's a list.\n",
    "assert len(list_of_excluded_subjects) == 2  # Has right number of elements.\n",
    "assert list_of_excluded_subjects[0] == 'sub005'\n",
    "assert list_of_excluded_subjects[-1] == 'sub008'"
   ]
  },
  {
   "cell_type": "markdown",
   "id": "4a941526",
   "metadata": {},
   "source": [
    "Now create a *list* of all subjects apart from those in the\n",
    "`list_of_excluded_subjects`.  Put this new list into the variable\n",
    "`good_subjects`.\n",
    "\n",
    "**Hint**: you can use a `for` loop."
   ]
  },
  {
   "cell_type": "code",
   "execution_count": 14,
   "id": "8acc5929",
   "metadata": {
    "execution": {
     "iopub.execute_input": "2022-03-31T14:43:18.734093Z",
     "iopub.status.busy": "2022-03-31T14:43:18.733430Z",
     "iopub.status.idle": "2022-03-31T14:43:18.735837Z",
     "shell.execute_reply": "2022-03-31T14:43:18.736303Z"
    }
   },
   "outputs": [],
   "source": [
    "good_subjects = []\n",
    "for i in range(all_subjects):\n",
    "    subject = list_of_subjects[i]\n",
    "    if subject in list_of_excluded_subjects:\n",
    "        continue\n",
    "    good_subjects.append(subject)\n",
    "# Show the result\n",
    "good_subjects"
   ]
  },
  {
   "cell_type": "code",
   "execution_count": 15,
   "id": "29c9996e",
   "metadata": {
    "execution": {
     "iopub.execute_input": "2022-03-31T14:43:18.740156Z",
     "iopub.status.busy": "2022-03-31T14:43:18.739567Z",
     "iopub.status.idle": "2022-03-31T14:43:18.741586Z",
     "shell.execute_reply": "2022-03-31T14:43:18.742059Z"
    }
   },
   "outputs": [],
   "source": [
    "# Test the list creation.\n",
    "assert 'good_subjects' in dir()  # Variable exists.\n",
    "assert isinstance(good_subjects, list)  # It's a list.\n",
    "assert len(good_subjects) == all_subjects - 2  # Has right number of elements.\n",
    "assert good_subjects[5] == 'sub006'\n",
    "assert good_subjects[-1] == 'sub029'"
   ]
  },
  {
   "cell_type": "markdown",
   "id": "1faa0e41",
   "metadata": {},
   "source": [
    "Do we expect the same identifier to be on the list of subjects twice? If not\n",
    "what other data structure could we use to contain the subjects?  Consider\n",
    "whether you could use this data structure to solve your code problem without a\n",
    "`for` loop.   See the [solution](first_analysis_solution.ipynb) for a way of\n",
    "doing this.\n",
    "\n",
    "**Hint**: you can use the `set` type and subtraction operator (with sets)."
   ]
  },
  {
   "cell_type": "code",
   "execution_count": 16,
   "id": "142e021a",
   "metadata": {
    "execution": {
     "iopub.execute_input": "2022-03-31T14:43:18.746488Z",
     "iopub.status.busy": "2022-03-31T14:43:18.745841Z",
     "iopub.status.idle": "2022-03-31T14:43:18.748327Z",
     "shell.execute_reply": "2022-03-31T14:43:18.748809Z"
    }
   },
   "outputs": [],
   "source": [
    "#- See the solution for a way of solving the problem above\n",
    "#- without using a `for` loop.\n",
    "good_subjects_again = set(list_of_subjects) - set(list_of_excluded_subjects)\n",
    "# Show the result\n",
    "good_subjects_again"
   ]
  },
  {
   "cell_type": "markdown",
   "id": "7616a261",
   "metadata": {},
   "source": [
    "For the next step, we return to using the `good_subjects` list you should have\n",
    "built above.\n",
    "\n",
    "Now write out your ordered subjects to text file called `usable_subjects.txt`.\n",
    "Write one subject identifier per line."
   ]
  },
  {
   "cell_type": "code",
   "execution_count": 17,
   "id": "f9ebd2b9",
   "metadata": {
    "execution": {
     "iopub.execute_input": "2022-03-31T14:43:18.752715Z",
     "iopub.status.busy": "2022-03-31T14:43:18.752046Z",
     "iopub.status.idle": "2022-03-31T14:43:18.754534Z",
     "shell.execute_reply": "2022-03-31T14:43:18.754948Z"
    }
   },
   "outputs": [],
   "source": [
    "# Make sure we have a sorted list.\n",
    "good_list = sorted(good_subjects)\n",
    "# Open the file for writing\n",
    "fobj = open('usable_subjects.txt', 'wt')\n",
    "for i in range(len(good_list)):\n",
    "    fobj.write(good_list[i] + '\\n')\n",
    "# Don't forget to close the file.\n",
    "fobj.close()"
   ]
  },
  {
   "cell_type": "code",
   "execution_count": 18,
   "id": "4a54d25e",
   "metadata": {
    "execution": {
     "iopub.execute_input": "2022-03-31T14:43:18.759448Z",
     "iopub.status.busy": "2022-03-31T14:43:18.758696Z",
     "iopub.status.idle": "2022-03-31T14:43:18.761184Z",
     "shell.execute_reply": "2022-03-31T14:43:18.761593Z"
    }
   },
   "outputs": [],
   "source": [
    "# Some tests\n",
    "import os.path as op\n",
    "assert op.isfile('usable_subjects.txt')\n",
    "lines = open('usable_subjects.txt', 'rt').readlines()\n",
    "assert len(lines) == len(good_subjects)\n",
    "for i in range(len(lines)):\n",
    "    assert lines[i].strip() == good_subjects[i]"
   ]
  },
  {
   "cell_type": "markdown",
   "id": "0656ac17",
   "metadata": {},
   "source": [
    "For the rest of the class we would like you to work on the following task:\n",
    "\n",
    "You are given a log file called `24719.f3_beh_CHYM.csv`.  It contains the\n",
    "results from a behavioral experiment.\n",
    "\n",
    "The first line in the file contains the header, giving the names of the\n",
    "variables.  Each line after the first corresponds to one trial of the\n",
    "experiment. We are interested in the average response time on trials where\n",
    "response was the “space” key and displayed shape (“trial_shape”) was a red\n",
    "square.  Here are the first few lines of this file:\n",
    "\n",
    "```\n",
    "response,response_time,trial_ISI,trial_shape\n",
    "None,0,2000,red_star\n",
    "None,0,1000,red_circle\n",
    "None,0,2500,green_triangle\n",
    "None,0,1500,yellow_square\n",
    "```\n",
    "\n",
    "**Hints**\n",
    "\n",
    "- When you read lines from a text file, they end with a carriage return;\n",
    "- Remember `split`;\n",
    "- String are not numbers;\n",
    "\n",
    "See [the solution](first_analysis_solution.ipynb) for the — *solution*!"
   ]
  },
  {
   "cell_type": "code",
   "execution_count": 19,
   "id": "a23c9883",
   "metadata": {
    "execution": {
     "iopub.execute_input": "2022-03-31T14:43:18.766730Z",
     "iopub.status.busy": "2022-03-31T14:43:18.766031Z",
     "iopub.status.idle": "2022-03-31T14:43:18.768386Z",
     "shell.execute_reply": "2022-03-31T14:43:18.768769Z"
    }
   },
   "outputs": [],
   "source": [
    "total_rt = 0.\n",
    "n = 0\n",
    "fobj = open(\"24719.f3_beh_CHYM.csv\", 'rt')\n",
    "lines = fobj.readlines()\n",
    "for i in range(1, len(lines)):\n",
    "    line = lines[i].strip()\n",
    "    parts = line.split(',')\n",
    "    if parts[0] == 'space' and parts[3] == 'red_square':\n",
    "        total_rt += int(parts[1])\n",
    "        n += 1\n",
    "# Show the average reaction time.\n",
    "print(total_rt / n)"
   ]
  },
  {
   "cell_type": "code",
   "execution_count": 20,
   "id": "de5c7296",
   "metadata": {
    "execution": {
     "iopub.execute_input": "2022-03-31T14:43:18.772188Z",
     "iopub.status.busy": "2022-03-31T14:43:18.771610Z",
     "iopub.status.idle": "2022-03-31T14:43:18.773420Z",
     "shell.execute_reply": "2022-03-31T14:43:18.773832Z"
    }
   },
   "outputs": [],
   "source": [
    "# A simple test for the correct answer.\n",
    "assert round(total_rt / n) == 382"
   ]
  },
  {
   "cell_type": "markdown",
   "id": "c33a3955",
   "metadata": {},
   "source": [
    "## Bonus exercise\n",
    "\n",
    "Have a look at the Pandas package especially the `read_csv` method. Could you\n",
    "solve the previous exercise using this functionality?\n",
    "\n",
    "You'll need to install pandas first, which you can easily do by executing this code in a new cell:\n",
    "\n",
    "```\n",
    "!pip install \"pandas==1.3\"\n",
    "```"
   ]
  },
  {
   "cell_type": "markdown",
   "id": "f0ae9cf7",
   "metadata": {},
   "source": [
    "## Some final cleanup\n",
    "\n",
    "Just to be tidy, let us delete the file we created above:"
   ]
  },
  {
   "cell_type": "code",
   "execution_count": 21,
   "id": "05008d43",
   "metadata": {
    "execution": {
     "iopub.execute_input": "2022-03-31T14:43:18.777664Z",
     "iopub.status.busy": "2022-03-31T14:43:18.777073Z",
     "iopub.status.idle": "2022-03-31T14:43:18.779143Z",
     "shell.execute_reply": "2022-03-31T14:43:18.779559Z"
    }
   },
   "outputs": [],
   "source": [
    "# Delete the usable_subjects.txt file.\n",
    "# Just in case we are re-running the notebook.\n",
    "import os\n",
    "os.unlink('usable_subjects.txt')"
   ]
  }
 ],
 "metadata": {
  "jupytext": {
   "notebook_metadata_filter": "all,-language_info",
   "split_at_heading": true,
   "text_representation": {
    "extension": ".Rmd",
    "format_name": "rmarkdown",
    "format_version": "1.2",
    "jupytext_version": "1.13.7"
   }
  },
  "kernelspec": {
   "display_name": "Python 3",
   "language": "python",
   "name": "python3"
  },
  "language_info": {
   "codemirror_mode": {
    "name": "ipython",
    "version": 3
   },
   "file_extension": ".py",
   "mimetype": "text/x-python",
   "name": "python",
   "nbconvert_exporter": "python",
   "pygments_lexer": "ipython3",
   "version": "3.8.13"
  }
 },
 "nbformat": 4,
 "nbformat_minor": 5
}
