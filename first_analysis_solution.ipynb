{
 "cells": [
  {
   "cell_type": "markdown",
   "id": "c375a973",
   "metadata": {},
   "source": [
    "# Getting ready for an analysis"
   ]
  },
  {
   "cell_type": "markdown",
   "id": "7a1cd4b6",
   "metadata": {},
   "source": [
    "[Chris\n",
    "Gorgolewski](https://reproducibility.stanford.edu/team/chris-gorgolewski)\n",
    "kindly gave this exercise in our Berkeley courses.\n",
    "\n",
    "The exercise gets you started on:\n",
    "\n",
    "* using variables;\n",
    "* numbers and strings;\n",
    "* opening and reading from files.\n"
   ]
  },
  {
   "cell_type": "markdown",
   "id": "b51ab68e",
   "metadata": {},
   "source": [
    "## Introduction\n",
    "\n",
    "Fill in the code cells containing `...` in the cells below.\n",
    "\n",
    "When you have filled in the code, run any tests for the cell, in the cell\n",
    "below.  Some cells don't have test cells below them.\n",
    "\n",
    "If your code was not correct, the tests will give an `AssertionError`.  If the\n",
    "code appears to be correct, the test cell will run without error.\n"
   ]
  },
  {
   "cell_type": "markdown",
   "id": "23705d8e",
   "metadata": {},
   "source": [
    "## The analysis"
   ]
  },
  {
   "cell_type": "markdown",
   "id": "1d2c993c",
   "metadata": {},
   "source": [
    "Define a `number_of_subjects` variable and assign value 20 to it."
   ]
  },
  {
   "cell_type": "code",
   "execution_count": 1,
   "id": "5213c5af",
   "metadata": {
    "execution": {
     "iopub.execute_input": "2022-03-31T10:39:30.814176Z",
     "iopub.status.busy": "2022-03-31T10:39:30.813386Z",
     "iopub.status.idle": "2022-03-31T10:39:30.815290Z",
     "shell.execute_reply": "2022-03-31T10:39:30.815728Z"
    }
   },
   "outputs": [],
   "source": [
    "#- Your code here.\n",
    "number_of_subjects = 20"
   ]
  },
  {
   "cell_type": "markdown",
   "id": "64b2683c",
   "metadata": {},
   "source": [
    "Now run the cell below to test the code above.  Remember, if it gives an `AssertionError`, then there's a problem with your code above.  If it runs without error, your code above probably gave the right answer."
   ]
  },
  {
   "cell_type": "code",
   "execution_count": 2,
   "id": "28f95f1e",
   "metadata": {
    "execution": {
     "iopub.execute_input": "2022-03-31T10:39:30.819660Z",
     "iopub.status.busy": "2022-03-31T10:39:30.819059Z",
     "iopub.status.idle": "2022-03-31T10:39:30.821015Z",
     "shell.execute_reply": "2022-03-31T10:39:30.821478Z"
    },
    "lines_to_next_cell": 2
   },
   "outputs": [],
   "source": [
    "# Run this cell to test the cell above.\n",
    "assert 'number_of_subjects' in dir()  # Variable exists\n",
    "assert number_of_subjects is not ...  # Variable changed from template\n",
    "assert number_of_subjects == 20  # Variable has correct value."
   ]
  },
  {
   "cell_type": "markdown",
   "id": "de70dafb",
   "metadata": {},
   "source": [
    "Display the statement: `We have <x> subjects` where `<x>` is the number of\n",
    "subjects.  For example, if you had 10 subjects (you don't) you should see `We have 10 subjects`."
   ]
  },
  {
   "cell_type": "code",
   "execution_count": 3,
   "id": "610f7cf4",
   "metadata": {
    "execution": {
     "iopub.execute_input": "2022-03-31T10:39:30.825109Z",
     "iopub.status.busy": "2022-03-31T10:39:30.824448Z",
     "iopub.status.idle": "2022-03-31T10:39:30.827122Z",
     "shell.execute_reply": "2022-03-31T10:39:30.827538Z"
    }
   },
   "outputs": [],
   "source": [
    "#- Your code here\n",
    "print(\"We have {number_of_subjects} subjects\")"
   ]
  },
  {
   "cell_type": "markdown",
   "id": "4312e432",
   "metadata": {},
   "source": [
    "Define two variables: `control_subjects` and `drug_subjects` and assign values\n",
    "18 and 22 respectively."
   ]
  },
  {
   "cell_type": "code",
   "execution_count": 4,
   "id": "2cd3db99",
   "metadata": {
    "execution": {
     "iopub.execute_input": "2022-03-31T10:39:30.830909Z",
     "iopub.status.busy": "2022-03-31T10:39:30.830311Z",
     "iopub.status.idle": "2022-03-31T10:39:30.832120Z",
     "shell.execute_reply": "2022-03-31T10:39:30.832537Z"
    }
   },
   "outputs": [],
   "source": [
    "#- Your code here\n",
    "control_subjects = 18\n",
    "drug_subjects = 12"
   ]
  },
  {
   "cell_type": "code",
   "execution_count": 5,
   "id": "8c83e998",
   "metadata": {
    "execution": {
     "iopub.execute_input": "2022-03-31T10:39:30.836057Z",
     "iopub.status.busy": "2022-03-31T10:39:30.835452Z",
     "iopub.status.idle": "2022-03-31T10:39:30.837292Z",
     "shell.execute_reply": "2022-03-31T10:39:30.837707Z"
    }
   },
   "outputs": [],
   "source": [
    "# Run this cell to test the cell above.\n",
    "assert 'control_subjects' in dir()  # Variable exists\n",
    "assert 'drug_subjects' in dir()  # Variable exists\n",
    "assert control_subjects == 18  # Variable has correct value.\n",
    "assert drug_subjects == 12  # Variable has correct value."
   ]
  },
  {
   "cell_type": "markdown",
   "id": "59ede013",
   "metadata": {},
   "source": [
    "Now define a new variable `all_subjects` which is a sum of the two."
   ]
  },
  {
   "cell_type": "code",
   "execution_count": 6,
   "id": "6bff9da7",
   "metadata": {
    "execution": {
     "iopub.execute_input": "2022-03-31T10:39:30.841161Z",
     "iopub.status.busy": "2022-03-31T10:39:30.840559Z",
     "iopub.status.idle": "2022-03-31T10:39:30.842243Z",
     "shell.execute_reply": "2022-03-31T10:39:30.842662Z"
    }
   },
   "outputs": [],
   "source": [
    "#- Your code here\n",
    "all_subjects = control_subjects + drug_subjects"
   ]
  },
  {
   "cell_type": "code",
   "execution_count": 7,
   "id": "b06ab9df",
   "metadata": {
    "execution": {
     "iopub.execute_input": "2022-03-31T10:39:30.845980Z",
     "iopub.status.busy": "2022-03-31T10:39:30.845389Z",
     "iopub.status.idle": "2022-03-31T10:39:30.847742Z",
     "shell.execute_reply": "2022-03-31T10:39:30.847298Z"
    }
   },
   "outputs": [],
   "source": [
    "# Run this cell to test the cell above.\n",
    "assert 'all_subjects' in dir()  # Variable exists\n",
    "assert all_subjects == 30  # Variable has correct value."
   ]
  },
  {
   "cell_type": "markdown",
   "id": "53c91af5",
   "metadata": {},
   "source": [
    "Now have a look at the textbook page on [string formatting](https://textbook.nipraxis.org/string_formatting.html).\n",
    "\n",
    "The directories for each subject have names:\n",
    "\n",
    "- `sub000`\n",
    "- `sub001`\n",
    "- etc, up to\n",
    "- `sub029`\n",
    "\n",
    "Here's how to build a string for subject number 20, using string formatting\n",
    "(see the page above):"
   ]
  },
  {
   "cell_type": "code",
   "execution_count": 8,
   "id": "d7450bc4",
   "metadata": {
    "execution": {
     "iopub.execute_input": "2022-03-31T10:39:30.856348Z",
     "iopub.status.busy": "2022-03-31T10:39:30.855645Z",
     "iopub.status.idle": "2022-03-31T10:39:30.858286Z",
     "shell.execute_reply": "2022-03-31T10:39:30.858707Z"
    }
   },
   "outputs": [],
   "source": [
    "val = 20\n",
    "# Make a suitable string using the value of `val`\n",
    "f'sub{val:03d}'"
   ]
  },
  {
   "cell_type": "markdown",
   "id": "e52df651",
   "metadata": {},
   "source": [
    "Now use a `for` loop to print the subject identifiers for each subject, each subject identifier on one line.  This will start:\n",
    "\n",
    "```\n",
    "sub000\n",
    "sub001\n",
    "sub002\n",
    "```"
   ]
  },
  {
   "cell_type": "code",
   "execution_count": 9,
   "id": "5c23bdb3",
   "metadata": {
    "execution": {
     "iopub.execute_input": "2022-03-31T10:39:30.862280Z",
     "iopub.status.busy": "2022-03-31T10:39:30.861692Z",
     "iopub.status.idle": "2022-03-31T10:39:30.864649Z",
     "shell.execute_reply": "2022-03-31T10:39:30.865073Z"
    }
   },
   "outputs": [],
   "source": [
    "#- Starting at 0 and going up to (not including) the value of `all_subjects`\n",
    "for i in range(0, all_subjects):\n",
    "    print(f\"sub{i:03d}\")"
   ]
  },
  {
   "cell_type": "markdown",
   "id": "6069804c",
   "metadata": {},
   "source": [
    "Create a variable `list_of_subjects` containing a list of identifiers you\n",
    "just printed."
   ]
  },
  {
   "cell_type": "code",
   "execution_count": 10,
   "id": "efb7ca57",
   "metadata": {
    "execution": {
     "iopub.execute_input": "2022-03-31T10:39:30.870096Z",
     "iopub.status.busy": "2022-03-31T10:39:30.869282Z",
     "iopub.status.idle": "2022-03-31T10:39:30.871931Z",
     "shell.execute_reply": "2022-03-31T10:39:30.872471Z"
    }
   },
   "outputs": [],
   "source": [
    "list_of_subjects = []\n",
    "for i in range(0, all_subjects):\n",
    "    list_of_subjects.append(f\"sub{i:03d}\")\n",
    "# Show the result\n",
    "list_of_subjects"
   ]
  },
  {
   "cell_type": "code",
   "execution_count": 11,
   "id": "0d37b484",
   "metadata": {
    "execution": {
     "iopub.execute_input": "2022-03-31T10:39:30.876709Z",
     "iopub.status.busy": "2022-03-31T10:39:30.876094Z",
     "iopub.status.idle": "2022-03-31T10:39:30.878029Z",
     "shell.execute_reply": "2022-03-31T10:39:30.878449Z"
    }
   },
   "outputs": [],
   "source": [
    "# Test the list creation.\n",
    "assert 'list_of_subjects' in dir()  # Variable exists.\n",
    "assert isinstance(list_of_subjects, list)  # It's a list.\n",
    "assert len(list_of_subjects) == all_subjects  # Has right number of elements.\n",
    "# Test some elements.\n",
    "assert list_of_subjects[1] == 'sub001'\n",
    "assert list_of_subjects[12] == 'sub012'\n",
    "assert list_of_subjects[-1] == 'sub029'"
   ]
  },
  {
   "cell_type": "markdown",
   "id": "21040a81",
   "metadata": {},
   "source": [
    "Unfortunately the data from some subjects were corrupted. Create another\n",
    "variable `list_of_excluded_subjects` containing the strings `'sub005'` and\n",
    "`'sub008'`."
   ]
  },
  {
   "cell_type": "code",
   "execution_count": 12,
   "id": "71e23c09",
   "metadata": {
    "execution": {
     "iopub.execute_input": "2022-03-31T10:39:30.881883Z",
     "iopub.status.busy": "2022-03-31T10:39:30.881293Z",
     "iopub.status.idle": "2022-03-31T10:39:30.883065Z",
     "shell.execute_reply": "2022-03-31T10:39:30.883518Z"
    }
   },
   "outputs": [],
   "source": [
    "list_of_excluded_subjects = ['sub005', 'sub008']"
   ]
  },
  {
   "cell_type": "code",
   "execution_count": 13,
   "id": "1d538389",
   "metadata": {
    "execution": {
     "iopub.execute_input": "2022-03-31T10:39:30.887617Z",
     "iopub.status.busy": "2022-03-31T10:39:30.886958Z",
     "iopub.status.idle": "2022-03-31T10:39:30.888701Z",
     "shell.execute_reply": "2022-03-31T10:39:30.889121Z"
    }
   },
   "outputs": [],
   "source": [
    "# Test the list creation.\n",
    "assert 'list_of_excluded_subjects' in dir()  # Variable exists.\n",
    "assert isinstance(list_of_excluded_subjects, list)  # It's a list.\n",
    "assert len(list_of_excluded_subjects) == 2  # Has right number of elements.\n",
    "assert list_of_excluded_subjects[0] == 'sub005'\n",
    "assert list_of_excluded_subjects[-1] == 'sub008'"
   ]
  },
  {
   "cell_type": "markdown",
   "id": "7d08b219",
   "metadata": {},
   "source": [
    "Now create a *list* of all subjects apart from those in the\n",
    "`list_of_excluded_subjects`.  Put this new list into the variable\n",
    "`good_subjects`.\n",
    "\n",
    "**Hint**: you can use a `for` loop."
   ]
  },
  {
   "cell_type": "code",
   "execution_count": 14,
   "id": "f87294a5",
   "metadata": {
    "execution": {
     "iopub.execute_input": "2022-03-31T10:39:30.893751Z",
     "iopub.status.busy": "2022-03-31T10:39:30.893106Z",
     "iopub.status.idle": "2022-03-31T10:39:30.895543Z",
     "shell.execute_reply": "2022-03-31T10:39:30.896023Z"
    }
   },
   "outputs": [],
   "source": [
    "good_subjects = []\n",
    "for i in range(all_subjects):\n",
    "    subject = list_of_subjects[i]\n",
    "    if subject in list_of_excluded_subjects:\n",
    "        continue\n",
    "    good_subjects.append(subject)\n",
    "# Show the result\n",
    "good_subjects"
   ]
  },
  {
   "cell_type": "code",
   "execution_count": 15,
   "id": "790831c7",
   "metadata": {
    "execution": {
     "iopub.execute_input": "2022-03-31T10:39:30.900006Z",
     "iopub.status.busy": "2022-03-31T10:39:30.899322Z",
     "iopub.status.idle": "2022-03-31T10:39:30.901181Z",
     "shell.execute_reply": "2022-03-31T10:39:30.901614Z"
    }
   },
   "outputs": [],
   "source": [
    "# Test the list creation.\n",
    "assert 'good_subjects' in dir()  # Variable exists.\n",
    "assert isinstance(good_subjects, list)  # It's a list.\n",
    "assert len(good_subjects) == all_subjects - 2  # Has right number of elements.\n",
    "assert good_subjects[5] == 'sub006'\n",
    "assert good_subjects[-1] == 'sub029'"
   ]
  },
  {
   "cell_type": "markdown",
   "id": "f4a7152b",
   "metadata": {},
   "source": [
    "Do we expect the same identifier to be on the list of subjects twice? If not\n",
    "what other data structure could we use to contain the subjects?  Consider\n",
    "whether you could use this data structure to solve your code problem without a\n",
    "`for` loop.   See the [solution](first_analysis_solution.ipynb) for a way of\n",
    "doing this."
   ]
  },
  {
   "cell_type": "code",
   "execution_count": 16,
   "id": "ab373517",
   "metadata": {
    "execution": {
     "iopub.execute_input": "2022-03-31T10:39:30.905894Z",
     "iopub.status.busy": "2022-03-31T10:39:30.905201Z",
     "iopub.status.idle": "2022-03-31T10:39:30.907737Z",
     "shell.execute_reply": "2022-03-31T10:39:30.908302Z"
    }
   },
   "outputs": [],
   "source": [
    "#- See the solution for a way of solving the problem above\n",
    "#- without using a `for` loop.\n",
    "good_subjects_again = set(list_of_subjects) - set(list_of_excluded_subjects)\n",
    "# Show the result\n",
    "good_subjects_again"
   ]
  },
  {
   "cell_type": "markdown",
   "id": "554ad67a",
   "metadata": {},
   "source": [
    "For the next step, we return to using the `good_subjects` list you should have\n",
    "built above.\n",
    "\n",
    "Now write out your ordered subjects to text file called `usable_subjects.txt`.\n",
    "Write one subject identifier per line."
   ]
  },
  {
   "cell_type": "code",
   "execution_count": 17,
   "id": "9f4e875e",
   "metadata": {
    "execution": {
     "iopub.execute_input": "2022-03-31T10:39:30.912239Z",
     "iopub.status.busy": "2022-03-31T10:39:30.911595Z",
     "iopub.status.idle": "2022-03-31T10:39:30.914125Z",
     "shell.execute_reply": "2022-03-31T10:39:30.914526Z"
    }
   },
   "outputs": [],
   "source": [
    "# Make sure we have a sorted list.\n",
    "good_list = sorted(good_subjects)\n",
    "# Open the file for writing\n",
    "fobj = open('usable_subjects.txt', 'wt')\n",
    "for i in range(len(good_list)):\n",
    "    fobj.write(good_list[i] + '\\n')\n",
    "# Don't forget to close the file.\n",
    "fobj.close()"
   ]
  },
  {
   "cell_type": "code",
   "execution_count": 18,
   "id": "c35f9c45",
   "metadata": {
    "execution": {
     "iopub.execute_input": "2022-03-31T10:39:30.918924Z",
     "iopub.status.busy": "2022-03-31T10:39:30.918203Z",
     "iopub.status.idle": "2022-03-31T10:39:30.920676Z",
     "shell.execute_reply": "2022-03-31T10:39:30.921094Z"
    }
   },
   "outputs": [],
   "source": [
    "# Some tests\n",
    "import os.path as op\n",
    "assert op.isfile('usable_subjects.txt')\n",
    "contents = open('usable_subjects.txt', 'rt').read()\n",
    "lines = contents.splitlines()\n",
    "assert len(lines) == len(good_subjects)\n",
    "for i in range(len(lines)):\n",
    "    assert lines[i] == good_subjects[i]"
   ]
  },
  {
   "cell_type": "markdown",
   "id": "cd59aaa8",
   "metadata": {},
   "source": [
    "For the rest of the class we would like you to work on the following task:\n",
    "\n",
    "You are given a log file called `24719.f3_beh_CHYM.csv`.  It contains the\n",
    "results from a behavioral experiment.\n",
    "\n",
    "The first line in the file contains the header, giving the names of the\n",
    "variables.  Each line after the first corresponds to one trial of the\n",
    "experiment. We are interested in the average response time on trials where\n",
    "response was the “space” key and displayed shape (“trial_shape”) was a red\n",
    "square.  Here are the first few lines of this file:\n",
    "\n",
    "```\n",
    "response,response_time,trial_ISI,trial_shape\n",
    "None,0,2000,red_star\n",
    "None,0,1000,red_circle\n",
    "None,0,2500,green_triangle\n",
    "None,0,1500,yellow_square\n",
    "```\n",
    "\n",
    "**Hints**\n",
    "\n",
    "- When you read lines from a text file, they end with a carriage return;\n",
    "- Remember `split`;\n",
    "- String are not numbers;\n",
    "\n",
    "See [the solution](first_analysis_solution.ipynb) for the — *solution*!"
   ]
  },
  {
   "cell_type": "code",
   "execution_count": 19,
   "id": "254f374e",
   "metadata": {
    "execution": {
     "iopub.execute_input": "2022-03-31T10:39:30.926222Z",
     "iopub.status.busy": "2022-03-31T10:39:30.925573Z",
     "iopub.status.idle": "2022-03-31T10:39:30.927810Z",
     "shell.execute_reply": "2022-03-31T10:39:30.928224Z"
    }
   },
   "outputs": [],
   "source": [
    "total_rt = 0.\n",
    "n = 0\n",
    "fobj = open(\"24719.f3_beh_CHYM.csv\", 'rt')\n",
    "lines = fobj.readlines()\n",
    "for i in range(1, len(lines)):\n",
    "    line = lines[i].strip()\n",
    "    parts = line.split(',')\n",
    "    if parts[0] == 'space' and parts[3] == 'red_square':\n",
    "        total_rt += int(parts[1])\n",
    "        n += 1\n",
    "# Show the average reaction time.\n",
    "print(total_rt / n)"
   ]
  },
  {
   "cell_type": "code",
   "execution_count": 20,
   "id": "abe5d5f4",
   "metadata": {
    "execution": {
     "iopub.execute_input": "2022-03-31T10:39:30.931489Z",
     "iopub.status.busy": "2022-03-31T10:39:30.930906Z",
     "iopub.status.idle": "2022-03-31T10:39:30.932698Z",
     "shell.execute_reply": "2022-03-31T10:39:30.933118Z"
    }
   },
   "outputs": [],
   "source": [
    "# A simple test for the correct answer.\n",
    "assert round(total_rt / n) == 382"
   ]
  },
  {
   "cell_type": "markdown",
   "id": "c5aa2888",
   "metadata": {},
   "source": [
    "## Bonus exercise\n",
    "\n",
    "Have a look at the Pandas package especially the `read_csv` method. Could you\n",
    "solve the previous exercise using this functionality?"
   ]
  },
  {
   "cell_type": "markdown",
   "id": "41e98490",
   "metadata": {},
   "source": [
    "## Some final cleanup\n",
    "\n",
    "Just to be tidy, let us delete the file we created above:"
   ]
  },
  {
   "cell_type": "code",
   "execution_count": 21,
   "id": "745f8055",
   "metadata": {
    "execution": {
     "iopub.execute_input": "2022-03-31T10:39:30.936621Z",
     "iopub.status.busy": "2022-03-31T10:39:30.935954Z",
     "iopub.status.idle": "2022-03-31T10:39:30.938201Z",
     "shell.execute_reply": "2022-03-31T10:39:30.938626Z"
    }
   },
   "outputs": [],
   "source": [
    "# Delete the usable_subjects.txt file.\n",
    "# Just in case we are re-running the notebook.\n",
    "import os\n",
    "os.unlink('usable_subjects.txt')"
   ]
  }
 ],
 "metadata": {
  "jupytext": {
   "notebook_metadata_filter": "all,-language_info",
   "split_at_heading": true,
   "text_representation": {
    "extension": ".Rmd",
    "format_name": "rmarkdown",
    "format_version": "1.2",
    "jupytext_version": "1.13.7"
   }
  },
  "kernelspec": {
   "display_name": "Python 3",
   "language": "python",
   "name": "python3"
  },
  "language_info": {
   "codemirror_mode": {
    "name": "ipython",
    "version": 3
   },
   "file_extension": ".py",
   "mimetype": "text/x-python",
   "name": "python",
   "nbconvert_exporter": "python",
   "pygments_lexer": "ipython3",
   "version": "3.8.13"
  }
 },
 "nbformat": 4,
 "nbformat_minor": 5
}
