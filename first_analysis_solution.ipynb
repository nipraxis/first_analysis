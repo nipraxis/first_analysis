{
 "cells": [
  {
   "cell_type": "markdown",
   "id": "19ef18f7",
   "metadata": {},
   "source": [
    "# Getting ready for an analysis"
   ]
  },
  {
   "cell_type": "markdown",
   "id": "f6a00566",
   "metadata": {},
   "source": [
    "[Chris\n",
    "Gorgolewski](https://reproducibility.stanford.edu/team/chris-gorgolewski)\n",
    "kindly gave this exercise in our Berkeley courses.\n",
    "\n",
    "The exercise gets you started on:\n",
    "\n",
    "* using variables;\n",
    "* numbers and strings;\n",
    "* opening and reading from files.\n"
   ]
  },
  {
   "cell_type": "markdown",
   "id": "a2a71a98",
   "metadata": {},
   "source": [
    "## Introduction\n",
    "\n",
    "Fill in the code cells containing `...` in the cells below.\n",
    "\n",
    "When you have filled in the code, run any tests for the cell, in the cell\n",
    "below.  Some cells don't have test cells below them.\n",
    "\n",
    "If your code was not correct, the tests will give an `AssertionError`.  If the\n",
    "code appears to be correct, the test cell will run without error.\n"
   ]
  },
  {
   "cell_type": "markdown",
   "id": "918f6177",
   "metadata": {},
   "source": [
    "## The analysis"
   ]
  },
  {
   "cell_type": "markdown",
   "id": "e3b8cdb4",
   "metadata": {},
   "source": [
    "Define a `number_of_subjects` variable and assign value 20 to it."
   ]
  },
  {
   "cell_type": "code",
   "execution_count": 1,
   "id": "bd10ef38",
   "metadata": {
    "execution": {
     "iopub.execute_input": "2022-03-29T14:21:12.001557Z",
     "iopub.status.busy": "2022-03-29T14:21:12.000655Z",
     "iopub.status.idle": "2022-03-29T14:21:12.003053Z",
     "shell.execute_reply": "2022-03-29T14:21:12.003503Z"
    }
   },
   "outputs": [],
   "source": [
    "#- Your code here.\n",
    "number_of_subjects = 20"
   ]
  },
  {
   "cell_type": "markdown",
   "id": "27641e0d",
   "metadata": {},
   "source": [
    "Now run the cell below to test the code above.  Remember, if it gives an `AssertionError`, then there's a problem with your code above.  If it runs without error, your code above probably gave the right answer."
   ]
  },
  {
   "cell_type": "code",
   "execution_count": 2,
   "id": "943c1027",
   "metadata": {
    "execution": {
     "iopub.execute_input": "2022-03-29T14:21:12.007738Z",
     "iopub.status.busy": "2022-03-29T14:21:12.007048Z",
     "iopub.status.idle": "2022-03-29T14:21:12.008844Z",
     "shell.execute_reply": "2022-03-29T14:21:12.009337Z"
    },
    "lines_to_next_cell": 2
   },
   "outputs": [],
   "source": [
    "# Run this cell to test the cell above.\n",
    "assert 'number_of_subjects' in dir()  # Variable exists\n",
    "assert number_of_subjects is not ...  # Variable changed from template\n",
    "assert number_of_subjects == 20  # Variable has correct value."
   ]
  },
  {
   "cell_type": "markdown",
   "id": "48f543ef",
   "metadata": {},
   "source": [
    "Display the statement: `We have <x> subjects` where `<x>` is the number of\n",
    "subjects.  For example, if you had 10 subjects (you don't) you should see `We have 10 subjects`."
   ]
  },
  {
   "cell_type": "code",
   "execution_count": 3,
   "id": "ba050f7e",
   "metadata": {
    "execution": {
     "iopub.execute_input": "2022-03-29T14:21:12.012737Z",
     "iopub.status.busy": "2022-03-29T14:21:12.012155Z",
     "iopub.status.idle": "2022-03-29T14:21:12.014579Z",
     "shell.execute_reply": "2022-03-29T14:21:12.014993Z"
    }
   },
   "outputs": [],
   "source": [
    "#- Your code here\n",
    "print(\"We have {number_of_subjects} subjects\")"
   ]
  },
  {
   "cell_type": "markdown",
   "id": "da9e3d44",
   "metadata": {},
   "source": [
    "Define two variables: `control_subjects` and `drug_subjects` and assign values\n",
    "18 and 22 respectively."
   ]
  },
  {
   "cell_type": "code",
   "execution_count": 4,
   "id": "c577731e",
   "metadata": {
    "execution": {
     "iopub.execute_input": "2022-03-29T14:21:12.018916Z",
     "iopub.status.busy": "2022-03-29T14:21:12.018307Z",
     "iopub.status.idle": "2022-03-29T14:21:12.020040Z",
     "shell.execute_reply": "2022-03-29T14:21:12.020453Z"
    }
   },
   "outputs": [],
   "source": [
    "#- Your code here\n",
    "control_subjects = 18\n",
    "drug_subjects = 12"
   ]
  },
  {
   "cell_type": "code",
   "execution_count": 5,
   "id": "a880acc1",
   "metadata": {
    "execution": {
     "iopub.execute_input": "2022-03-29T14:21:12.024344Z",
     "iopub.status.busy": "2022-03-29T14:21:12.023699Z",
     "iopub.status.idle": "2022-03-29T14:21:12.025548Z",
     "shell.execute_reply": "2022-03-29T14:21:12.025960Z"
    }
   },
   "outputs": [],
   "source": [
    "# Run this cell to test the cell above.\n",
    "assert 'control_subjects' in dir()  # Variable exists\n",
    "assert 'drug_subjects' in dir()  # Variable exists\n",
    "assert control_subjects == 18  # Variable has correct value.\n",
    "assert drug_subjects == 12  # Variable has correct value."
   ]
  },
  {
   "cell_type": "markdown",
   "id": "02e94031",
   "metadata": {},
   "source": [
    "Now define a new variable `all_subjects` which is a sum of the two."
   ]
  },
  {
   "cell_type": "code",
   "execution_count": 6,
   "id": "80ecf69e",
   "metadata": {
    "execution": {
     "iopub.execute_input": "2022-03-29T14:21:12.029323Z",
     "iopub.status.busy": "2022-03-29T14:21:12.028739Z",
     "iopub.status.idle": "2022-03-29T14:21:12.030520Z",
     "shell.execute_reply": "2022-03-29T14:21:12.030992Z"
    }
   },
   "outputs": [],
   "source": [
    "#- Your code here\n",
    "all_subjects = control_subjects + drug_subjects"
   ]
  },
  {
   "cell_type": "code",
   "execution_count": 7,
   "id": "9a5fa9dc",
   "metadata": {
    "execution": {
     "iopub.execute_input": "2022-03-29T14:21:12.034431Z",
     "iopub.status.busy": "2022-03-29T14:21:12.033746Z",
     "iopub.status.idle": "2022-03-29T14:21:12.036280Z",
     "shell.execute_reply": "2022-03-29T14:21:12.035822Z"
    }
   },
   "outputs": [],
   "source": [
    "# Run this cell to test the cell above.\n",
    "assert 'all_subjects' in dir()  # Variable exists\n",
    "assert all_subjects == 30  # Variable has correct value."
   ]
  },
  {
   "cell_type": "markdown",
   "id": "aad7230e",
   "metadata": {},
   "source": [
    "Now have a look at the textbook page on [string formatting](https://textbook.nipraxis.org/string_formatting.html).\n",
    "\n",
    "The directories for each subject have names:\n",
    "\n",
    "- `sub000`\n",
    "- `sub001`\n",
    "- etc, up to\n",
    "- `sub029`\n",
    "\n",
    "Here's how to build a string for subject number 20, using string formatting\n",
    "(see the page above):"
   ]
  },
  {
   "cell_type": "code",
   "execution_count": 8,
   "id": "0e2fa5b1",
   "metadata": {
    "execution": {
     "iopub.execute_input": "2022-03-29T14:21:12.044887Z",
     "iopub.status.busy": "2022-03-29T14:21:12.044156Z",
     "iopub.status.idle": "2022-03-29T14:21:12.047033Z",
     "shell.execute_reply": "2022-03-29T14:21:12.047445Z"
    }
   },
   "outputs": [],
   "source": [
    "val = 20\n",
    "# Make a suitable string using the value of `val`\n",
    "f'sub{val:03d}'"
   ]
  },
  {
   "cell_type": "markdown",
   "id": "a706045c",
   "metadata": {},
   "source": [
    "Now use a `for` loop to print the subject identifiers for each subject, each subject identifier on one line.  This will start:\n",
    "\n",
    "```\n",
    "sub000\n",
    "sub001\n",
    "sub002\n",
    "```"
   ]
  },
  {
   "cell_type": "code",
   "execution_count": 9,
   "id": "f9ee2a2d",
   "metadata": {
    "execution": {
     "iopub.execute_input": "2022-03-29T14:21:12.051662Z",
     "iopub.status.busy": "2022-03-29T14:21:12.051017Z",
     "iopub.status.idle": "2022-03-29T14:21:12.053277Z",
     "shell.execute_reply": "2022-03-29T14:21:12.053697Z"
    }
   },
   "outputs": [],
   "source": [
    "#- Starting at 1 and going up to (and including) the value of `all_subjects`\n",
    "for i in range(1, all_subjects + 1):\n",
    "    print(f\"sub{i:03d}\")"
   ]
  },
  {
   "cell_type": "markdown",
   "id": "49a541f5",
   "metadata": {},
   "source": [
    "Create a variable `list_of_subjects` containing a list of identifiers you\n",
    "just printed."
   ]
  },
  {
   "cell_type": "code",
   "execution_count": 10,
   "id": "848b8c94",
   "metadata": {
    "execution": {
     "iopub.execute_input": "2022-03-29T14:21:12.058627Z",
     "iopub.status.busy": "2022-03-29T14:21:12.057952Z",
     "iopub.status.idle": "2022-03-29T14:21:12.060478Z",
     "shell.execute_reply": "2022-03-29T14:21:12.060950Z"
    }
   },
   "outputs": [],
   "source": [
    "list_of_subjects = []\n",
    "for i in range(0, all_subjects):\n",
    "    list_of_subjects.append(f\"sub{i:03d}\")\n",
    "# Show the result\n",
    "list_of_subjects"
   ]
  },
  {
   "cell_type": "code",
   "execution_count": 11,
   "id": "2793b59c",
   "metadata": {
    "execution": {
     "iopub.execute_input": "2022-03-29T14:21:12.065447Z",
     "iopub.status.busy": "2022-03-29T14:21:12.064779Z",
     "iopub.status.idle": "2022-03-29T14:21:12.066671Z",
     "shell.execute_reply": "2022-03-29T14:21:12.067121Z"
    }
   },
   "outputs": [],
   "source": [
    "# Test the list creation.\n",
    "assert 'list_of_subjects' in dir()  # Variable exists.\n",
    "assert isinstance(list_of_subjects, list)  # It's a list.\n",
    "assert len(list_of_subjects) == all_subjects  # Has right number of elements.\n",
    "# Test some elements.\n",
    "assert list_of_subjects[1] == 'sub001'\n",
    "assert list_of_subjects[12] == 'sub012'\n",
    "assert list_of_subjects[-1] == 'sub029'"
   ]
  },
  {
   "cell_type": "markdown",
   "id": "7dbc9939",
   "metadata": {},
   "source": [
    "Unfortunately the data from some subjects were corrupted. Create another\n",
    "variable `list_of_excluded_subjects` containing the strings `'sub005'` and\n",
    "`'sub008'`."
   ]
  },
  {
   "cell_type": "code",
   "execution_count": 12,
   "id": "e1baece4",
   "metadata": {
    "execution": {
     "iopub.execute_input": "2022-03-29T14:21:12.071085Z",
     "iopub.status.busy": "2022-03-29T14:21:12.070429Z",
     "iopub.status.idle": "2022-03-29T14:21:12.072294Z",
     "shell.execute_reply": "2022-03-29T14:21:12.072703Z"
    }
   },
   "outputs": [],
   "source": [
    "list_of_excluded_subjects = ['sub005', 'sub008']"
   ]
  },
  {
   "cell_type": "code",
   "execution_count": 13,
   "id": "a1442e56",
   "metadata": {
    "execution": {
     "iopub.execute_input": "2022-03-29T14:21:12.076829Z",
     "iopub.status.busy": "2022-03-29T14:21:12.076242Z",
     "iopub.status.idle": "2022-03-29T14:21:12.077991Z",
     "shell.execute_reply": "2022-03-29T14:21:12.078622Z"
    }
   },
   "outputs": [],
   "source": [
    "# Test the list creation.\n",
    "assert 'list_of_excluded_subjects' in dir()  # Variable exists.\n",
    "assert isinstance(list_of_excluded_subjects, list)  # It's a list.\n",
    "assert len(list_of_excluded_subjects) == 2  # Has right number of elements.\n",
    "assert list_of_excluded_subjects[0] == 'sub005'\n",
    "assert list_of_excluded_subjects[-1] == 'sub008'"
   ]
  },
  {
   "cell_type": "markdown",
   "id": "f5ef122b",
   "metadata": {},
   "source": [
    "Now create a *list* of all subjects apart from those in the\n",
    "`list_of_excluded_subjects`.  Put this new list into the variable\n",
    "`good_subjects`.\n",
    "\n",
    "**Hint**: you can use a `for` loop."
   ]
  },
  {
   "cell_type": "code",
   "execution_count": 14,
   "id": "2d7ab175",
   "metadata": {
    "execution": {
     "iopub.execute_input": "2022-03-29T14:21:12.083798Z",
     "iopub.status.busy": "2022-03-29T14:21:12.083196Z",
     "iopub.status.idle": "2022-03-29T14:21:12.085752Z",
     "shell.execute_reply": "2022-03-29T14:21:12.086231Z"
    }
   },
   "outputs": [],
   "source": [
    "good_subjects = []\n",
    "for i in range(all_subjects):\n",
    "    subject = list_of_subjects[i]\n",
    "    if subject in list_of_excluded_subjects:\n",
    "        continue\n",
    "    good_subjects.append(subject)\n",
    "# Show the result\n",
    "good_subjects"
   ]
  },
  {
   "cell_type": "code",
   "execution_count": 15,
   "id": "4eba8bf6",
   "metadata": {
    "execution": {
     "iopub.execute_input": "2022-03-29T14:21:12.090382Z",
     "iopub.status.busy": "2022-03-29T14:21:12.089799Z",
     "iopub.status.idle": "2022-03-29T14:21:12.091685Z",
     "shell.execute_reply": "2022-03-29T14:21:12.092110Z"
    }
   },
   "outputs": [],
   "source": [
    "# Test the list creation.\n",
    "assert 'good_subjects' in dir()  # Variable exists.\n",
    "assert isinstance(good_subjects, list)  # It's a list.\n",
    "assert len(good_subjects) == all_subjects - 2  # Has right number of elements.\n",
    "assert good_subjects[5] == 'sub006'\n",
    "assert good_subjects[-1] == 'sub029'"
   ]
  },
  {
   "cell_type": "markdown",
   "id": "13a68bc7",
   "metadata": {},
   "source": [
    "Do we expect the same identifier to be on the list of subjects twice? If not\n",
    "what other data structure could we use to contain the subjects?  Consider whether you could use this data structure to solve your code problem without a `for` loop.   See the solution for a way of doing this."
   ]
  },
  {
   "cell_type": "code",
   "execution_count": 16,
   "id": "a250a913",
   "metadata": {
    "execution": {
     "iopub.execute_input": "2022-03-29T14:21:12.096412Z",
     "iopub.status.busy": "2022-03-29T14:21:12.095781Z",
     "iopub.status.idle": "2022-03-29T14:21:12.098165Z",
     "shell.execute_reply": "2022-03-29T14:21:12.098718Z"
    }
   },
   "outputs": [],
   "source": [
    "#- See the solution for a way of solving the problem above\n",
    "#- without using a `for` loop.\n",
    "good_subjects_again = set(list_of_subjects) - set(list_of_excluded_subjects)\n",
    "# Show the result\n",
    "good_subjects_again"
   ]
  },
  {
   "cell_type": "markdown",
   "id": "ff99de04",
   "metadata": {},
   "source": [
    "For the next step, we return to using the `good_subjects` list you should have\n",
    "built above.\n",
    "\n",
    "Now write out your ordered subjects to text file called `usable_subjects.txt`.\n",
    "Write one subject identifier per line."
   ]
  },
  {
   "cell_type": "code",
   "execution_count": 17,
   "id": "4c2232de",
   "metadata": {
    "execution": {
     "iopub.execute_input": "2022-03-29T14:21:12.103078Z",
     "iopub.status.busy": "2022-03-29T14:21:12.102387Z",
     "iopub.status.idle": "2022-03-29T14:21:12.104786Z",
     "shell.execute_reply": "2022-03-29T14:21:12.105194Z"
    }
   },
   "outputs": [],
   "source": [
    "# Make sure we have a sorted list.\n",
    "good_list = sorted(good_subjects)\n",
    "# Open the file for writing\n",
    "fobj = open('usable_subjects.txt', 'wt')\n",
    "for i in range(len(good_list)):\n",
    "    fobj.write(good_list[i] + '\\n')\n",
    "# Don't forget to close the file.\n",
    "fobj.close()"
   ]
  },
  {
   "cell_type": "code",
   "execution_count": 18,
   "id": "7cc64c9a",
   "metadata": {
    "execution": {
     "iopub.execute_input": "2022-03-29T14:21:12.109716Z",
     "iopub.status.busy": "2022-03-29T14:21:12.109034Z",
     "iopub.status.idle": "2022-03-29T14:21:12.111295Z",
     "shell.execute_reply": "2022-03-29T14:21:12.111778Z"
    }
   },
   "outputs": [],
   "source": [
    "# Some tests\n",
    "import os.path as op\n",
    "assert op.isfile('usable_subjects.txt')\n",
    "contents = open('usable_subjects.txt', 'rt').read()\n",
    "lines = contents.splitlines()\n",
    "assert len(lines) == len(good_subjects)\n",
    "for i in range(len(lines)):\n",
    "    assert lines[i] == good_subjects[i]"
   ]
  },
  {
   "cell_type": "markdown",
   "id": "42251fb4",
   "metadata": {},
   "source": [
    "For the rest of the class we would like you to work on the following task:\n",
    "\n",
    "You are given a log file called `24719.f3_beh_CHYM.csv`.  It contains the\n",
    "results from a behavioral experiment.\n",
    "\n",
    "The first line in the file contains the header, giving the names of the\n",
    "variables.  Each line after the first corresponds to one trial of the\n",
    "experiment. We are interested in the average response time on trials where\n",
    "response was the “space” key and displayed shape (“trial_shape”) was a red\n",
    "square.  Here are the first few lines of this file:\n",
    "\n",
    "```\n",
    "response,response_time,trial_ISI,trial_shape\n",
    "None,0,2000,red_star\n",
    "None,0,1000,red_circle\n",
    "None,0,2500,green_triangle\n",
    "None,0,1500,yellow_square\n",
    "```\n",
    "\n",
    "**Hints**\n",
    "\n",
    "- When you read lines from a text file, they end with a carriage return;\n",
    "- Remember `split`;\n",
    "- String are not numbers;\n",
    "\n",
    "See the solution for the — *solution*!"
   ]
  },
  {
   "cell_type": "code",
   "execution_count": 19,
   "id": "85ffe377",
   "metadata": {
    "execution": {
     "iopub.execute_input": "2022-03-29T14:21:12.117909Z",
     "iopub.status.busy": "2022-03-29T14:21:12.117240Z",
     "iopub.status.idle": "2022-03-29T14:21:12.119637Z",
     "shell.execute_reply": "2022-03-29T14:21:12.120115Z"
    }
   },
   "outputs": [],
   "source": [
    "total_rt = 0.\n",
    "n = 0\n",
    "fobj = open(\"24719.f3_beh_CHYM.csv\", 'rt')\n",
    "lines = fobj.readlines()\n",
    "for i in range(1, len(lines)):\n",
    "    line = lines[i].strip()\n",
    "    parts = line.split(',')\n",
    "    if parts[0] == 'space' and parts[3] == 'red_square':\n",
    "        total_rt += int(parts[1])\n",
    "        n += 1\n",
    "# Show the average reaction time.\n",
    "print(total_rt / n)"
   ]
  },
  {
   "cell_type": "code",
   "execution_count": 20,
   "id": "4e220b9d",
   "metadata": {
    "execution": {
     "iopub.execute_input": "2022-03-29T14:21:12.123506Z",
     "iopub.status.busy": "2022-03-29T14:21:12.122887Z",
     "iopub.status.idle": "2022-03-29T14:21:12.124630Z",
     "shell.execute_reply": "2022-03-29T14:21:12.125034Z"
    }
   },
   "outputs": [],
   "source": [
    "# A simple test for the correct answer.\n",
    "assert round(total_rt / n) == 382"
   ]
  },
  {
   "cell_type": "markdown",
   "id": "09f7a342",
   "metadata": {},
   "source": [
    "## Bonus exercise\n",
    "\n",
    "Have a look at the Pandas package especially the `read_csv` method. Could you\n",
    "solve the previous exercise using this functionality?"
   ]
  }
 ],
 "metadata": {
  "jupytext": {
   "notebook_metadata_filter": "all,-language_info",
   "split_at_heading": true,
   "text_representation": {
    "extension": ".Rmd",
    "format_name": "rmarkdown",
    "format_version": "1.2",
    "jupytext_version": "1.13.7"
   }
  },
  "kernelspec": {
   "display_name": "Python 3",
   "language": "python",
   "name": "python3"
  },
  "language_info": {
   "codemirror_mode": {
    "name": "ipython",
    "version": 3
   },
   "file_extension": ".py",
   "mimetype": "text/x-python",
   "name": "python",
   "nbconvert_exporter": "python",
   "pygments_lexer": "ipython3",
   "version": "3.8.13"
  }
 },
 "nbformat": 4,
 "nbformat_minor": 5
}
