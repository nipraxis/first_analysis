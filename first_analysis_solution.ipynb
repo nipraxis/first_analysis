{
 "cells": [
  {
   "cell_type": "markdown",
   "id": "f0b9e61f",
   "metadata": {},
   "source": [
    "# Getting ready for an analysis"
   ]
  },
  {
   "cell_type": "markdown",
   "id": "25ad352c",
   "metadata": {},
   "source": [
    "[Chris\n",
    "Gorgolewski](https://reproducibility.stanford.edu/team/chris-gorgolewski)\n",
    "kindly gave this exercise in our Berkeley courses.\n",
    "\n",
    "The exercise gets you started on:\n",
    "\n",
    "* using variables;\n",
    "* numbers and strings;\n",
    "* opening and reading from files.\n"
   ]
  },
  {
   "cell_type": "markdown",
   "id": "39c78b7c",
   "metadata": {},
   "source": [
    "## Introduction\n",
    "\n",
    "Fill in the code cells containing `...` in the cells below.\n",
    "\n",
    "When you have filled in the code, run any tests for the cell, in the cell\n",
    "below.  Some cells don't have test cells below them.\n",
    "\n",
    "If your code was not correct, the tests will give an `AssertionError`.  If the\n",
    "code appears to be correct, the test cell will run without error.\n"
   ]
  },
  {
   "cell_type": "markdown",
   "id": "ac80a3f9",
   "metadata": {},
   "source": [
    "## The analysis"
   ]
  },
  {
   "cell_type": "markdown",
   "id": "75f9a28c",
   "metadata": {},
   "source": [
    "Define a `number_of_subjects` variable and assign value 20 to it."
   ]
  },
  {
   "cell_type": "code",
   "execution_count": 1,
   "id": "45ead784",
   "metadata": {
    "execution": {
     "iopub.execute_input": "2022-03-31T11:13:31.906864Z",
     "iopub.status.busy": "2022-03-31T11:13:31.906193Z",
     "iopub.status.idle": "2022-03-31T11:13:31.908151Z",
     "shell.execute_reply": "2022-03-31T11:13:31.908573Z"
    }
   },
   "outputs": [],
   "source": [
    "#- Your code here.\n",
    "number_of_subjects = 20"
   ]
  },
  {
   "cell_type": "markdown",
   "id": "18116069",
   "metadata": {},
   "source": [
    "Now run the cell below to test the code above.  Remember, if it gives an `AssertionError`, then there's a problem with your code above.  If it runs without error, your code above probably gave the right answer."
   ]
  },
  {
   "cell_type": "code",
   "execution_count": 2,
   "id": "6b4e0dac",
   "metadata": {
    "execution": {
     "iopub.execute_input": "2022-03-31T11:13:31.912329Z",
     "iopub.status.busy": "2022-03-31T11:13:31.911668Z",
     "iopub.status.idle": "2022-03-31T11:13:31.913567Z",
     "shell.execute_reply": "2022-03-31T11:13:31.913992Z"
    },
    "lines_to_next_cell": 2
   },
   "outputs": [],
   "source": [
    "# Run this cell to test the cell above.\n",
    "assert 'number_of_subjects' in dir()  # Variable exists\n",
    "assert number_of_subjects is not ...  # Variable changed from template\n",
    "assert number_of_subjects == 20  # Variable has correct value."
   ]
  },
  {
   "cell_type": "markdown",
   "id": "310550ca",
   "metadata": {},
   "source": [
    "Display the statement: `We have <x> subjects` where `<x>` is the number of\n",
    "subjects.  For example, if you had 10 subjects (you don't) you should see `We have 10 subjects`."
   ]
  },
  {
   "cell_type": "code",
   "execution_count": 3,
   "id": "886d9c9b",
   "metadata": {
    "execution": {
     "iopub.execute_input": "2022-03-31T11:13:31.917580Z",
     "iopub.status.busy": "2022-03-31T11:13:31.916975Z",
     "iopub.status.idle": "2022-03-31T11:13:31.919473Z",
     "shell.execute_reply": "2022-03-31T11:13:31.919952Z"
    }
   },
   "outputs": [],
   "source": [
    "#- Your code here\n",
    "print(\"We have {number_of_subjects} subjects\")"
   ]
  },
  {
   "cell_type": "markdown",
   "id": "3a73f481",
   "metadata": {},
   "source": [
    "Define two variables: `control_subjects` and `drug_subjects` and assign values\n",
    "18 and 22 respectively."
   ]
  },
  {
   "cell_type": "code",
   "execution_count": 4,
   "id": "95502a90",
   "metadata": {
    "execution": {
     "iopub.execute_input": "2022-03-31T11:13:31.923483Z",
     "iopub.status.busy": "2022-03-31T11:13:31.922843Z",
     "iopub.status.idle": "2022-03-31T11:13:31.924534Z",
     "shell.execute_reply": "2022-03-31T11:13:31.924951Z"
    }
   },
   "outputs": [],
   "source": [
    "#- Your code here\n",
    "control_subjects = 18\n",
    "drug_subjects = 12"
   ]
  },
  {
   "cell_type": "code",
   "execution_count": 5,
   "id": "ed6c0b76",
   "metadata": {
    "execution": {
     "iopub.execute_input": "2022-03-31T11:13:31.928507Z",
     "iopub.status.busy": "2022-03-31T11:13:31.927904Z",
     "iopub.status.idle": "2022-03-31T11:13:31.929963Z",
     "shell.execute_reply": "2022-03-31T11:13:31.930384Z"
    }
   },
   "outputs": [],
   "source": [
    "# Run this cell to test the cell above.\n",
    "assert 'control_subjects' in dir()  # Variable exists\n",
    "assert 'drug_subjects' in dir()  # Variable exists\n",
    "assert control_subjects == 18  # Variable has correct value.\n",
    "assert drug_subjects == 12  # Variable has correct value."
   ]
  },
  {
   "cell_type": "markdown",
   "id": "85ebf1db",
   "metadata": {},
   "source": [
    "Now define a new variable `all_subjects` which is a sum of the two."
   ]
  },
  {
   "cell_type": "code",
   "execution_count": 6,
   "id": "cb8a5a9f",
   "metadata": {
    "execution": {
     "iopub.execute_input": "2022-03-31T11:13:31.934087Z",
     "iopub.status.busy": "2022-03-31T11:13:31.933468Z",
     "iopub.status.idle": "2022-03-31T11:13:31.935117Z",
     "shell.execute_reply": "2022-03-31T11:13:31.935572Z"
    }
   },
   "outputs": [],
   "source": [
    "#- Your code here\n",
    "all_subjects = control_subjects + drug_subjects"
   ]
  },
  {
   "cell_type": "code",
   "execution_count": 7,
   "id": "cb95600c",
   "metadata": {
    "execution": {
     "iopub.execute_input": "2022-03-31T11:13:31.939039Z",
     "iopub.status.busy": "2022-03-31T11:13:31.938449Z",
     "iopub.status.idle": "2022-03-31T11:13:31.940363Z",
     "shell.execute_reply": "2022-03-31T11:13:31.940774Z"
    }
   },
   "outputs": [],
   "source": [
    "# Run this cell to test the cell above.\n",
    "assert 'all_subjects' in dir()  # Variable exists\n",
    "assert all_subjects == 30  # Variable has correct value."
   ]
  },
  {
   "cell_type": "markdown",
   "id": "fd23f784",
   "metadata": {},
   "source": [
    "Now have a look at the textbook page on [string formatting](https://textbook.nipraxis.org/string_formatting.html).\n",
    "\n",
    "The directories for each subject have names:\n",
    "\n",
    "- `sub000`\n",
    "- `sub001`\n",
    "- etc, up to\n",
    "- `sub029`\n",
    "\n",
    "Here's how to build a string for subject number 20, using string formatting\n",
    "(see the page above):"
   ]
  },
  {
   "cell_type": "code",
   "execution_count": 8,
   "id": "69dd796e",
   "metadata": {
    "execution": {
     "iopub.execute_input": "2022-03-31T11:13:31.949726Z",
     "iopub.status.busy": "2022-03-31T11:13:31.949008Z",
     "iopub.status.idle": "2022-03-31T11:13:31.951800Z",
     "shell.execute_reply": "2022-03-31T11:13:31.952214Z"
    }
   },
   "outputs": [],
   "source": [
    "val = 20\n",
    "# Make a suitable string using the value of `val`\n",
    "f'sub{val:03d}'"
   ]
  },
  {
   "cell_type": "markdown",
   "id": "0a9eba66",
   "metadata": {},
   "source": [
    "Now use a `for` loop to print the subject identifiers for each subject, each subject identifier on one line.  This will start:\n",
    "\n",
    "```\n",
    "sub000\n",
    "sub001\n",
    "sub002\n",
    "```"
   ]
  },
  {
   "cell_type": "code",
   "execution_count": 9,
   "id": "a8edc74e",
   "metadata": {
    "execution": {
     "iopub.execute_input": "2022-03-31T11:13:31.956234Z",
     "iopub.status.busy": "2022-03-31T11:13:31.955626Z",
     "iopub.status.idle": "2022-03-31T11:13:31.957971Z",
     "shell.execute_reply": "2022-03-31T11:13:31.958428Z"
    }
   },
   "outputs": [],
   "source": [
    "#- Starting at 0 and going up to (not including) the value of `all_subjects`\n",
    "for i in range(0, all_subjects):\n",
    "    print(f\"sub{i:03d}\")"
   ]
  },
  {
   "cell_type": "markdown",
   "id": "df53592e",
   "metadata": {},
   "source": [
    "Create a variable `list_of_subjects` containing a list of identifiers you\n",
    "just printed."
   ]
  },
  {
   "cell_type": "code",
   "execution_count": 10,
   "id": "6162bb46",
   "metadata": {
    "execution": {
     "iopub.execute_input": "2022-03-31T11:13:31.963342Z",
     "iopub.status.busy": "2022-03-31T11:13:31.962666Z",
     "iopub.status.idle": "2022-03-31T11:13:31.965230Z",
     "shell.execute_reply": "2022-03-31T11:13:31.965656Z"
    }
   },
   "outputs": [],
   "source": [
    "list_of_subjects = []\n",
    "for i in range(0, all_subjects):\n",
    "    list_of_subjects.append(f\"sub{i:03d}\")\n",
    "# Show the result\n",
    "list_of_subjects"
   ]
  },
  {
   "cell_type": "code",
   "execution_count": 11,
   "id": "572b4b26",
   "metadata": {
    "execution": {
     "iopub.execute_input": "2022-03-31T11:13:31.970320Z",
     "iopub.status.busy": "2022-03-31T11:13:31.969690Z",
     "iopub.status.idle": "2022-03-31T11:13:31.971610Z",
     "shell.execute_reply": "2022-03-31T11:13:31.972024Z"
    }
   },
   "outputs": [],
   "source": [
    "# Test the list creation.\n",
    "assert 'list_of_subjects' in dir()  # Variable exists.\n",
    "assert isinstance(list_of_subjects, list)  # It's a list.\n",
    "assert len(list_of_subjects) == all_subjects  # Has right number of elements.\n",
    "# Test some elements.\n",
    "assert list_of_subjects[1] == 'sub001'\n",
    "assert list_of_subjects[12] == 'sub012'\n",
    "assert list_of_subjects[-1] == 'sub029'"
   ]
  },
  {
   "cell_type": "markdown",
   "id": "580b8106",
   "metadata": {},
   "source": [
    "Unfortunately the data from some subjects were corrupted. Create another\n",
    "variable `list_of_excluded_subjects` containing the strings `'sub005'` and\n",
    "`'sub008'`."
   ]
  },
  {
   "cell_type": "code",
   "execution_count": 12,
   "id": "51b0a6d9",
   "metadata": {
    "execution": {
     "iopub.execute_input": "2022-03-31T11:13:31.975548Z",
     "iopub.status.busy": "2022-03-31T11:13:31.974942Z",
     "iopub.status.idle": "2022-03-31T11:13:31.976744Z",
     "shell.execute_reply": "2022-03-31T11:13:31.977161Z"
    }
   },
   "outputs": [],
   "source": [
    "list_of_excluded_subjects = ['sub005', 'sub008']"
   ]
  },
  {
   "cell_type": "code",
   "execution_count": 13,
   "id": "80e74b5e",
   "metadata": {
    "execution": {
     "iopub.execute_input": "2022-03-31T11:13:31.981261Z",
     "iopub.status.busy": "2022-03-31T11:13:31.980538Z",
     "iopub.status.idle": "2022-03-31T11:13:31.982498Z",
     "shell.execute_reply": "2022-03-31T11:13:31.982919Z"
    }
   },
   "outputs": [],
   "source": [
    "# Test the list creation.\n",
    "assert 'list_of_excluded_subjects' in dir()  # Variable exists.\n",
    "assert isinstance(list_of_excluded_subjects, list)  # It's a list.\n",
    "assert len(list_of_excluded_subjects) == 2  # Has right number of elements.\n",
    "assert list_of_excluded_subjects[0] == 'sub005'\n",
    "assert list_of_excluded_subjects[-1] == 'sub008'"
   ]
  },
  {
   "cell_type": "markdown",
   "id": "e0864a0e",
   "metadata": {},
   "source": [
    "Now create a *list* of all subjects apart from those in the\n",
    "`list_of_excluded_subjects`.  Put this new list into the variable\n",
    "`good_subjects`.\n",
    "\n",
    "**Hint**: you can use a `for` loop."
   ]
  },
  {
   "cell_type": "code",
   "execution_count": 14,
   "id": "f4556c9c",
   "metadata": {
    "execution": {
     "iopub.execute_input": "2022-03-31T11:13:31.987731Z",
     "iopub.status.busy": "2022-03-31T11:13:31.987076Z",
     "iopub.status.idle": "2022-03-31T11:13:31.989636Z",
     "shell.execute_reply": "2022-03-31T11:13:31.990137Z"
    }
   },
   "outputs": [],
   "source": [
    "good_subjects = []\n",
    "for i in range(all_subjects):\n",
    "    subject = list_of_subjects[i]\n",
    "    if subject in list_of_excluded_subjects:\n",
    "        continue\n",
    "    good_subjects.append(subject)\n",
    "# Show the result\n",
    "good_subjects"
   ]
  },
  {
   "cell_type": "code",
   "execution_count": 15,
   "id": "be4f6e3f",
   "metadata": {
    "execution": {
     "iopub.execute_input": "2022-03-31T11:13:31.994072Z",
     "iopub.status.busy": "2022-03-31T11:13:31.993425Z",
     "iopub.status.idle": "2022-03-31T11:13:31.995302Z",
     "shell.execute_reply": "2022-03-31T11:13:31.995803Z"
    }
   },
   "outputs": [],
   "source": [
    "# Test the list creation.\n",
    "assert 'good_subjects' in dir()  # Variable exists.\n",
    "assert isinstance(good_subjects, list)  # It's a list.\n",
    "assert len(good_subjects) == all_subjects - 2  # Has right number of elements.\n",
    "assert good_subjects[5] == 'sub006'\n",
    "assert good_subjects[-1] == 'sub029'"
   ]
  },
  {
   "cell_type": "markdown",
   "id": "edf92269",
   "metadata": {},
   "source": [
    "Do we expect the same identifier to be on the list of subjects twice? If not\n",
    "what other data structure could we use to contain the subjects?  Consider\n",
    "whether you could use this data structure to solve your code problem without a\n",
    "`for` loop.   See the [solution](first_analysis_solution.ipynb) for a way of\n",
    "doing this."
   ]
  },
  {
   "cell_type": "code",
   "execution_count": 16,
   "id": "d535584e",
   "metadata": {
    "execution": {
     "iopub.execute_input": "2022-03-31T11:13:32.000363Z",
     "iopub.status.busy": "2022-03-31T11:13:31.999647Z",
     "iopub.status.idle": "2022-03-31T11:13:32.002322Z",
     "shell.execute_reply": "2022-03-31T11:13:32.002747Z"
    }
   },
   "outputs": [],
   "source": [
    "#- See the solution for a way of solving the problem above\n",
    "#- without using a `for` loop.\n",
    "good_subjects_again = set(list_of_subjects) - set(list_of_excluded_subjects)\n",
    "# Show the result\n",
    "good_subjects_again"
   ]
  },
  {
   "cell_type": "markdown",
   "id": "1c87d27d",
   "metadata": {},
   "source": [
    "For the next step, we return to using the `good_subjects` list you should have\n",
    "built above.\n",
    "\n",
    "Now write out your ordered subjects to text file called `usable_subjects.txt`.\n",
    "Write one subject identifier per line."
   ]
  },
  {
   "cell_type": "code",
   "execution_count": 17,
   "id": "4843e6f8",
   "metadata": {
    "execution": {
     "iopub.execute_input": "2022-03-31T11:13:32.006628Z",
     "iopub.status.busy": "2022-03-31T11:13:32.006030Z",
     "iopub.status.idle": "2022-03-31T11:13:32.008418Z",
     "shell.execute_reply": "2022-03-31T11:13:32.008833Z"
    }
   },
   "outputs": [],
   "source": [
    "# Make sure we have a sorted list.\n",
    "good_list = sorted(good_subjects)\n",
    "# Open the file for writing\n",
    "fobj = open('usable_subjects.txt', 'wt')\n",
    "for i in range(len(good_list)):\n",
    "    fobj.write(good_list[i] + '\\n')\n",
    "# Don't forget to close the file.\n",
    "fobj.close()"
   ]
  },
  {
   "cell_type": "code",
   "execution_count": 18,
   "id": "99282277",
   "metadata": {
    "execution": {
     "iopub.execute_input": "2022-03-31T11:13:32.012812Z",
     "iopub.status.busy": "2022-03-31T11:13:32.012215Z",
     "iopub.status.idle": "2022-03-31T11:13:32.014580Z",
     "shell.execute_reply": "2022-03-31T11:13:32.015091Z"
    }
   },
   "outputs": [],
   "source": [
    "# Some tests\n",
    "import os.path as op\n",
    "assert op.isfile('usable_subjects.txt')\n",
    "lines = open('usable_subjects.txt', 'rt').readlines()\n",
    "assert len(lines) == len(good_subjects)\n",
    "for i in range(len(lines)):\n",
    "    assert lines[i].strip() == good_subjects[i]"
   ]
  },
  {
   "cell_type": "markdown",
   "id": "f5b4defe",
   "metadata": {},
   "source": [
    "For the rest of the class we would like you to work on the following task:\n",
    "\n",
    "You are given a log file called `24719.f3_beh_CHYM.csv`.  It contains the\n",
    "results from a behavioral experiment.\n",
    "\n",
    "The first line in the file contains the header, giving the names of the\n",
    "variables.  Each line after the first corresponds to one trial of the\n",
    "experiment. We are interested in the average response time on trials where\n",
    "response was the “space” key and displayed shape (“trial_shape”) was a red\n",
    "square.  Here are the first few lines of this file:\n",
    "\n",
    "```\n",
    "response,response_time,trial_ISI,trial_shape\n",
    "None,0,2000,red_star\n",
    "None,0,1000,red_circle\n",
    "None,0,2500,green_triangle\n",
    "None,0,1500,yellow_square\n",
    "```\n",
    "\n",
    "**Hints**\n",
    "\n",
    "- When you read lines from a text file, they end with a carriage return;\n",
    "- Remember `split`;\n",
    "- String are not numbers;\n",
    "\n",
    "See [the solution](first_analysis_solution.ipynb) for the — *solution*!"
   ]
  },
  {
   "cell_type": "code",
   "execution_count": 19,
   "id": "0c7c6490",
   "metadata": {
    "execution": {
     "iopub.execute_input": "2022-03-31T11:13:32.020206Z",
     "iopub.status.busy": "2022-03-31T11:13:32.019541Z",
     "iopub.status.idle": "2022-03-31T11:13:32.022486Z",
     "shell.execute_reply": "2022-03-31T11:13:32.022908Z"
    }
   },
   "outputs": [],
   "source": [
    "total_rt = 0.\n",
    "n = 0\n",
    "fobj = open(\"24719.f3_beh_CHYM.csv\", 'rt')\n",
    "lines = fobj.readlines()\n",
    "for i in range(1, len(lines)):\n",
    "    line = lines[i].strip()\n",
    "    parts = line.split(',')\n",
    "    if parts[0] == 'space' and parts[3] == 'red_square':\n",
    "        total_rt += int(parts[1])\n",
    "        n += 1\n",
    "# Show the average reaction time.\n",
    "print(total_rt / n)"
   ]
  },
  {
   "cell_type": "code",
   "execution_count": 20,
   "id": "78d9b9e1",
   "metadata": {
    "execution": {
     "iopub.execute_input": "2022-03-31T11:13:32.026348Z",
     "iopub.status.busy": "2022-03-31T11:13:32.025763Z",
     "iopub.status.idle": "2022-03-31T11:13:32.027590Z",
     "shell.execute_reply": "2022-03-31T11:13:32.028006Z"
    }
   },
   "outputs": [],
   "source": [
    "# A simple test for the correct answer.\n",
    "assert round(total_rt / n) == 382"
   ]
  },
  {
   "cell_type": "markdown",
   "id": "57a4e123",
   "metadata": {},
   "source": [
    "## Bonus exercise\n",
    "\n",
    "Have a look at the Pandas package especially the `read_csv` method. Could you\n",
    "solve the previous exercise using this functionality?"
   ]
  },
  {
   "cell_type": "markdown",
   "id": "8d83e02f",
   "metadata": {},
   "source": [
    "## Some final cleanup\n",
    "\n",
    "Just to be tidy, let us delete the file we created above:"
   ]
  },
  {
   "cell_type": "code",
   "execution_count": 21,
   "id": "e8b88ee1",
   "metadata": {
    "execution": {
     "iopub.execute_input": "2022-03-31T11:13:32.031598Z",
     "iopub.status.busy": "2022-03-31T11:13:32.031001Z",
     "iopub.status.idle": "2022-03-31T11:13:32.033163Z",
     "shell.execute_reply": "2022-03-31T11:13:32.033637Z"
    }
   },
   "outputs": [],
   "source": [
    "# Delete the usable_subjects.txt file.\n",
    "# Just in case we are re-running the notebook.\n",
    "import os\n",
    "os.unlink('usable_subjects.txt')"
   ]
  }
 ],
 "metadata": {
  "jupytext": {
   "notebook_metadata_filter": "all,-language_info",
   "split_at_heading": true,
   "text_representation": {
    "extension": ".Rmd",
    "format_name": "rmarkdown",
    "format_version": "1.2",
    "jupytext_version": "1.13.7"
   }
  },
  "kernelspec": {
   "display_name": "Python 3",
   "language": "python",
   "name": "python3"
  },
  "language_info": {
   "codemirror_mode": {
    "name": "ipython",
    "version": 3
   },
   "file_extension": ".py",
   "mimetype": "text/x-python",
   "name": "python",
   "nbconvert_exporter": "python",
   "pygments_lexer": "ipython3",
   "version": "3.8.13"
  }
 },
 "nbformat": 4,
 "nbformat_minor": 5
}
