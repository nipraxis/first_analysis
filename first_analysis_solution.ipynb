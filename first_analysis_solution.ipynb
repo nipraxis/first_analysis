{
 "cells": [
  {
   "cell_type": "markdown",
   "id": "4964be82",
   "metadata": {},
   "source": [
    "# Getting ready for an analysis"
   ]
  },
  {
   "cell_type": "markdown",
   "id": "8228c821",
   "metadata": {},
   "source": [
    "[Chris\n",
    "Gorgolewski](https://reproducibility.stanford.edu/team/chris-gorgolewski)\n",
    "kindly gave this exercise in our Berkeley courses.\n",
    "\n",
    "The exercise gets you started on:\n",
    "\n",
    "* using variables;\n",
    "* numbers and strings;\n",
    "* opening and reading from files.\n"
   ]
  },
  {
   "cell_type": "markdown",
   "id": "f45b9228",
   "metadata": {},
   "source": [
    "## Introduction\n",
    "\n",
    "Fill in the code cells containing `...` in the cells below.\n",
    "\n",
    "When you have filled in the code, run any tests for the cell, in the cell\n",
    "below.  Some cells don't have test cells below them.\n",
    "\n",
    "If your code was not correct, the tests will give an `AssertionError`.  If the\n",
    "code appears to be correct, the test cell will run without error.\n"
   ]
  },
  {
   "cell_type": "markdown",
   "id": "72b78148",
   "metadata": {},
   "source": [
    "## The analysis"
   ]
  },
  {
   "cell_type": "markdown",
   "id": "1e7f2b98",
   "metadata": {},
   "source": [
    "Define a `number_of_subjects` variable and assign value 20 to it."
   ]
  },
  {
   "cell_type": "code",
   "execution_count": 1,
   "id": "10713513",
   "metadata": {
    "execution": {
     "iopub.execute_input": "2022-03-29T14:10:40.372207Z",
     "iopub.status.busy": "2022-03-29T14:10:40.371524Z",
     "iopub.status.idle": "2022-03-29T14:10:40.373719Z",
     "shell.execute_reply": "2022-03-29T14:10:40.374145Z"
    }
   },
   "outputs": [],
   "source": [
    "#- Your code here.\n",
    "number_of_subjects = 20"
   ]
  },
  {
   "cell_type": "markdown",
   "id": "71230184",
   "metadata": {},
   "source": [
    "Now run the cell below to test the code above.  Remember, if it gives an `AssertionError`, then there's a problem with your code above.  If it runs without error, your code above probably gave the right answer."
   ]
  },
  {
   "cell_type": "code",
   "execution_count": 2,
   "id": "63e616d7",
   "metadata": {
    "execution": {
     "iopub.execute_input": "2022-03-29T14:10:40.378214Z",
     "iopub.status.busy": "2022-03-29T14:10:40.377576Z",
     "iopub.status.idle": "2022-03-29T14:10:40.379533Z",
     "shell.execute_reply": "2022-03-29T14:10:40.379956Z"
    },
    "lines_to_next_cell": 2
   },
   "outputs": [],
   "source": [
    "# Run this cell to test the cell above.\n",
    "assert 'number_of_subjects' in dir()  # Variable exists\n",
    "assert number_of_subjects is not ...  # Variable changed from template\n",
    "assert number_of_subjects == 20  # Variable has correct value."
   ]
  },
  {
   "cell_type": "markdown",
   "id": "2b0d296e",
   "metadata": {},
   "source": [
    "Display the statement: `We have <x> subjects` where `<x>` is the number of\n",
    "subjects.  For example, if you had 10 subjects (you don't) you should see `We have 10 subjects`."
   ]
  },
  {
   "cell_type": "code",
   "execution_count": 3,
   "id": "590e8dc0",
   "metadata": {
    "execution": {
     "iopub.execute_input": "2022-03-29T14:10:40.384167Z",
     "iopub.status.busy": "2022-03-29T14:10:40.383527Z",
     "iopub.status.idle": "2022-03-29T14:10:40.386012Z",
     "shell.execute_reply": "2022-03-29T14:10:40.386424Z"
    }
   },
   "outputs": [],
   "source": [
    "#- Your code here\n",
    "print(\"We have {number_of_subjects} subjects\")"
   ]
  },
  {
   "cell_type": "markdown",
   "id": "e8bd32a7",
   "metadata": {},
   "source": [
    "Define two variables: `control_subjects` and `drug_subjects` and assign values\n",
    "18 and 22 respectively."
   ]
  },
  {
   "cell_type": "code",
   "execution_count": 4,
   "id": "713c0575",
   "metadata": {
    "execution": {
     "iopub.execute_input": "2022-03-29T14:10:40.389999Z",
     "iopub.status.busy": "2022-03-29T14:10:40.389405Z",
     "iopub.status.idle": "2022-03-29T14:10:40.391574Z",
     "shell.execute_reply": "2022-03-29T14:10:40.392003Z"
    }
   },
   "outputs": [],
   "source": [
    "#- Your code here\n",
    "control_subjects = 18\n",
    "drug_subjects = 12"
   ]
  },
  {
   "cell_type": "code",
   "execution_count": 5,
   "id": "3912aa83",
   "metadata": {
    "execution": {
     "iopub.execute_input": "2022-03-29T14:10:40.395963Z",
     "iopub.status.busy": "2022-03-29T14:10:40.395319Z",
     "iopub.status.idle": "2022-03-29T14:10:40.397414Z",
     "shell.execute_reply": "2022-03-29T14:10:40.397836Z"
    }
   },
   "outputs": [],
   "source": [
    "# Run this cell to test the cell above.\n",
    "assert 'control_subjects' in dir()  # Variable exists\n",
    "assert 'drug_subjects' in dir()  # Variable exists\n",
    "assert control_subjects == 18  # Variable has correct value.\n",
    "assert drug_subjects == 12  # Variable has correct value."
   ]
  },
  {
   "cell_type": "markdown",
   "id": "abbf1bfe",
   "metadata": {},
   "source": [
    "Now define a new variable `all_subjects` which is a sum of the two."
   ]
  },
  {
   "cell_type": "code",
   "execution_count": 6,
   "id": "2574809d",
   "metadata": {
    "execution": {
     "iopub.execute_input": "2022-03-29T14:10:40.401400Z",
     "iopub.status.busy": "2022-03-29T14:10:40.400764Z",
     "iopub.status.idle": "2022-03-29T14:10:40.402569Z",
     "shell.execute_reply": "2022-03-29T14:10:40.402980Z"
    }
   },
   "outputs": [],
   "source": [
    "#- Your code here\n",
    "all_subjects = control_subjects + drug_subjects"
   ]
  },
  {
   "cell_type": "code",
   "execution_count": 7,
   "id": "76751364",
   "metadata": {
    "execution": {
     "iopub.execute_input": "2022-03-29T14:10:40.406489Z",
     "iopub.status.busy": "2022-03-29T14:10:40.405897Z",
     "iopub.status.idle": "2022-03-29T14:10:40.407783Z",
     "shell.execute_reply": "2022-03-29T14:10:40.408200Z"
    }
   },
   "outputs": [],
   "source": [
    "# Run this cell to test the cell above.\n",
    "assert 'all_subjects' in dir()  # Variable exists\n",
    "assert all_subjects == 30  # Variable has correct value."
   ]
  },
  {
   "cell_type": "markdown",
   "id": "fbed3b32",
   "metadata": {},
   "source": [
    "Now have a look at the textbook page on [string formatting](https://textbook.nipraxis.org/string_formatting.html).\n",
    "\n",
    "The directories for each subject have names:\n",
    "\n",
    "- `sub000`\n",
    "- `sub001`\n",
    "- etc, up to\n",
    "- `sub029`\n",
    "\n",
    "Here's how to build a string for subject number 20, using string formatting\n",
    "(see the page above):"
   ]
  },
  {
   "cell_type": "code",
   "execution_count": 8,
   "id": "14d3ff3a",
   "metadata": {
    "execution": {
     "iopub.execute_input": "2022-03-29T14:10:40.417048Z",
     "iopub.status.busy": "2022-03-29T14:10:40.416383Z",
     "iopub.status.idle": "2022-03-29T14:10:40.419043Z",
     "shell.execute_reply": "2022-03-29T14:10:40.419499Z"
    }
   },
   "outputs": [],
   "source": [
    "val = 20\n",
    "# Make a suitable string using the value of `val`\n",
    "f'sub{val:03d}'"
   ]
  },
  {
   "cell_type": "markdown",
   "id": "6b562fa7",
   "metadata": {},
   "source": [
    "Now use a `for` loop to print the subject identifiers for each subject, each subject identifier on one line.  This will start:\n",
    "\n",
    "```\n",
    "sub000\n",
    "sub001\n",
    "sub002\n",
    "```"
   ]
  },
  {
   "cell_type": "code",
   "execution_count": 9,
   "id": "33c3fb6c",
   "metadata": {
    "execution": {
     "iopub.execute_input": "2022-03-29T14:10:40.423691Z",
     "iopub.status.busy": "2022-03-29T14:10:40.423092Z",
     "iopub.status.idle": "2022-03-29T14:10:40.425610Z",
     "shell.execute_reply": "2022-03-29T14:10:40.426030Z"
    }
   },
   "outputs": [],
   "source": [
    "#- Starting at 1 and going up to (and including) the value of `all_subjects`\n",
    "for i in range(1, all_subjects + 1):\n",
    "    print(f\"sub{i:03d}\")"
   ]
  },
  {
   "cell_type": "markdown",
   "id": "07ad6aab",
   "metadata": {},
   "source": [
    "Create a variable `list_of_subjects` containing a list of identifiers you\n",
    "just printed."
   ]
  },
  {
   "cell_type": "code",
   "execution_count": 10,
   "id": "5c4d6bc6",
   "metadata": {
    "execution": {
     "iopub.execute_input": "2022-03-29T14:10:40.431128Z",
     "iopub.status.busy": "2022-03-29T14:10:40.430428Z",
     "iopub.status.idle": "2022-03-29T14:10:40.433098Z",
     "shell.execute_reply": "2022-03-29T14:10:40.433514Z"
    }
   },
   "outputs": [],
   "source": [
    "list_of_subjects = []\n",
    "for i in range(0, all_subjects):\n",
    "    list_of_subjects.append(f\"sub{i:03d}\")\n",
    "# Show the result\n",
    "list_of_subjects"
   ]
  },
  {
   "cell_type": "code",
   "execution_count": 11,
   "id": "f0c418ee",
   "metadata": {
    "execution": {
     "iopub.execute_input": "2022-03-29T14:10:40.438046Z",
     "iopub.status.busy": "2022-03-29T14:10:40.437424Z",
     "iopub.status.idle": "2022-03-29T14:10:40.439320Z",
     "shell.execute_reply": "2022-03-29T14:10:40.439740Z"
    }
   },
   "outputs": [],
   "source": [
    "# Test the list creation.\n",
    "assert 'list_of_subjects' in dir()  # Variable exists.\n",
    "assert isinstance(list_of_subjects, list)  # It's a list.\n",
    "assert len(list_of_subjects) == all_subjects  # Has right number of elements.\n",
    "# Test some elements.\n",
    "assert list_of_subjects[1] == 'sub001'\n",
    "assert list_of_subjects[12] == 'sub012'\n",
    "assert list_of_subjects[-1] == 'sub029'"
   ]
  },
  {
   "cell_type": "markdown",
   "id": "883fc0d1",
   "metadata": {},
   "source": [
    "Unfortunately the data from some subjects were corrupted. Create another\n",
    "variable `list_of_excluded_subjects` containing the strings `'sub005'` and\n",
    "`'sub008'`."
   ]
  },
  {
   "cell_type": "code",
   "execution_count": 12,
   "id": "6281693a",
   "metadata": {
    "execution": {
     "iopub.execute_input": "2022-03-29T14:10:40.443439Z",
     "iopub.status.busy": "2022-03-29T14:10:40.442785Z",
     "iopub.status.idle": "2022-03-29T14:10:40.444467Z",
     "shell.execute_reply": "2022-03-29T14:10:40.444951Z"
    }
   },
   "outputs": [],
   "source": [
    "list_of_excluded_subjects = ['sub005', 'sub008']"
   ]
  },
  {
   "cell_type": "code",
   "execution_count": 13,
   "id": "dc72ea6c",
   "metadata": {
    "execution": {
     "iopub.execute_input": "2022-03-29T14:10:40.449369Z",
     "iopub.status.busy": "2022-03-29T14:10:40.448768Z",
     "iopub.status.idle": "2022-03-29T14:10:40.450600Z",
     "shell.execute_reply": "2022-03-29T14:10:40.451091Z"
    }
   },
   "outputs": [],
   "source": [
    "# Test the list creation.\n",
    "assert 'list_of_excluded_subjects' in dir()  # Variable exists.\n",
    "assert isinstance(list_of_excluded_subjects, list)  # It's a list.\n",
    "assert len(list_of_excluded_subjects) == 2  # Has right number of elements.\n",
    "assert list_of_excluded_subjects[0] == 'sub005'\n",
    "assert list_of_excluded_subjects[-1] == 'sub008'"
   ]
  },
  {
   "cell_type": "markdown",
   "id": "8ef0e4db",
   "metadata": {},
   "source": [
    "Now create a *list* of all subjects apart from those in the\n",
    "`list_of_excluded_subjects`.  Put this new list into the variable\n",
    "`good_subjects`.\n",
    "\n",
    "**Hint**: you can use a `for` loop."
   ]
  },
  {
   "cell_type": "code",
   "execution_count": 14,
   "id": "267e2f09",
   "metadata": {
    "execution": {
     "iopub.execute_input": "2022-03-29T14:10:40.455967Z",
     "iopub.status.busy": "2022-03-29T14:10:40.455333Z",
     "iopub.status.idle": "2022-03-29T14:10:40.457887Z",
     "shell.execute_reply": "2022-03-29T14:10:40.458380Z"
    }
   },
   "outputs": [],
   "source": [
    "good_subjects = []\n",
    "for i in range(all_subjects):\n",
    "    subject = list_of_subjects[i]\n",
    "    if subject in list_of_excluded_subjects:\n",
    "        continue\n",
    "    good_subjects.append(subject)\n",
    "# Show the result\n",
    "good_subjects"
   ]
  },
  {
   "cell_type": "code",
   "execution_count": 15,
   "id": "f7bd9627",
   "metadata": {
    "execution": {
     "iopub.execute_input": "2022-03-29T14:10:40.462562Z",
     "iopub.status.busy": "2022-03-29T14:10:40.461912Z",
     "iopub.status.idle": "2022-03-29T14:10:40.464045Z",
     "shell.execute_reply": "2022-03-29T14:10:40.464428Z"
    }
   },
   "outputs": [],
   "source": [
    "# Test the list creation.\n",
    "assert 'good_subjects' in dir()  # Variable exists.\n",
    "assert isinstance(good_subjects, list)  # It's a list.\n",
    "assert len(good_subjects) == all_subjects - 2  # Has right number of elements.\n",
    "assert good_subjects[5] == 'sub006'\n",
    "assert good_subjects[-1] == 'sub029'"
   ]
  },
  {
   "cell_type": "markdown",
   "id": "c8196827",
   "metadata": {},
   "source": [
    "Do we expect the same identifier to be on the list of subjects twice? If not\n",
    "what other data structure could we use to contain the subjects?  Consider whether you could use this data structure to solve your code problem without a `for` loop.   See the solution for a way of doing this."
   ]
  },
  {
   "cell_type": "code",
   "execution_count": 16,
   "id": "541273c7",
   "metadata": {
    "execution": {
     "iopub.execute_input": "2022-03-29T14:10:40.468993Z",
     "iopub.status.busy": "2022-03-29T14:10:40.468350Z",
     "iopub.status.idle": "2022-03-29T14:10:40.470938Z",
     "shell.execute_reply": "2022-03-29T14:10:40.471408Z"
    }
   },
   "outputs": [],
   "source": [
    "#- See the solution for a way of solving the problem above\n",
    "#- without using a `for` loop.\n",
    "good_subjects_again = set(list_of_subjects) - set(list_of_excluded_subjects)\n",
    "# Show the result\n",
    "good_subjects_again"
   ]
  },
  {
   "cell_type": "markdown",
   "id": "bd11b6b7",
   "metadata": {},
   "source": [
    "For the next step, we return to using the `good_subjects` list you should have\n",
    "built above.\n",
    "\n",
    "Now write out your ordered subjects to text file called `usable_subjects.txt`.\n",
    "Write one subject identifier per line."
   ]
  },
  {
   "cell_type": "code",
   "execution_count": 17,
   "id": "d12c0063",
   "metadata": {
    "execution": {
     "iopub.execute_input": "2022-03-29T14:10:40.475767Z",
     "iopub.status.busy": "2022-03-29T14:10:40.475130Z",
     "iopub.status.idle": "2022-03-29T14:10:40.477334Z",
     "shell.execute_reply": "2022-03-29T14:10:40.477824Z"
    }
   },
   "outputs": [],
   "source": [
    "# Make sure we have a sorted list.\n",
    "good_list = sorted(good_subjects)\n",
    "# Open the file for writing\n",
    "fobj = open('usable_subjects.txt', 'wt')\n",
    "for i in range(len(good_list)):\n",
    "    fobj.write(good_list[i] + '\\n')\n",
    "# Don't forget to close the file.\n",
    "fobj.close()"
   ]
  },
  {
   "cell_type": "code",
   "execution_count": 18,
   "id": "e3247c6e",
   "metadata": {
    "execution": {
     "iopub.execute_input": "2022-03-29T14:10:40.482698Z",
     "iopub.status.busy": "2022-03-29T14:10:40.482049Z",
     "iopub.status.idle": "2022-03-29T14:10:40.484385Z",
     "shell.execute_reply": "2022-03-29T14:10:40.484853Z"
    }
   },
   "outputs": [],
   "source": [
    "# Some tests\n",
    "import os.path as op\n",
    "assert op.isfile('usable_subjects.txt')\n",
    "contents = open('usable_subjects.txt', 'rt').read()\n",
    "lines = contents.splitlines()\n",
    "assert len(lines) == len(good_subjects)\n",
    "for i in range(len(lines)):\n",
    "    assert lines[i] == good_subjects[i]"
   ]
  },
  {
   "cell_type": "markdown",
   "id": "ab39b779",
   "metadata": {},
   "source": [
    "For the rest of the class we would like you to work on the following task:\n",
    "\n",
    "You are given a log file called `24719.f3_beh_CHYM.csv`.  It contains the\n",
    "results from a behavioral experiment.\n",
    "\n",
    "The first line in the file contains the header, giving the names of the\n",
    "variables.  Each line after the first corresponds to one trial of the\n",
    "experiment. We are interested in the average response time on trials where\n",
    "response was the “space” key and displayed shape (“trial_shape”) was a red\n",
    "square.  Here are the first few lines of this file:\n",
    "\n",
    "```\n",
    "response,response_time,trial_ISI,trial_shape\n",
    "None,0,2000,red_star\n",
    "None,0,1000,red_circle\n",
    "None,0,2500,green_triangle\n",
    "None,0,1500,yellow_square\n",
    "```\n",
    "\n",
    "**Hints**\n",
    "\n",
    "- When you read lines from a text file, they end with a carriage return;\n",
    "- Remember `split`;\n",
    "- String are not numbers;\n",
    "\n",
    "See the solution for the — *solution*!"
   ]
  },
  {
   "cell_type": "code",
   "execution_count": 19,
   "id": "58880030",
   "metadata": {
    "execution": {
     "iopub.execute_input": "2022-03-29T14:10:40.490826Z",
     "iopub.status.busy": "2022-03-29T14:10:40.490174Z",
     "iopub.status.idle": "2022-03-29T14:10:40.492389Z",
     "shell.execute_reply": "2022-03-29T14:10:40.492882Z"
    }
   },
   "outputs": [],
   "source": [
    "total_rt = 0.\n",
    "n = 0\n",
    "fobj = open(\"24719.f3_beh_CHYM.csv\", 'rt')\n",
    "# ...\n",
    "lines = fobj.readlines()\n",
    "for i in range(1, len(lines)):\n",
    "    line = lines[i].strip()\n",
    "    parts = line.split(',')\n",
    "    if parts[0] == 'space' and parts[3] == 'red_square':\n",
    "        total_rt += int(parts[1])\n",
    "        n += 1\n",
    "# Show the average reaction time.\n",
    "print(total_rt / n)"
   ]
  },
  {
   "cell_type": "code",
   "execution_count": 20,
   "id": "d649bd9f",
   "metadata": {
    "execution": {
     "iopub.execute_input": "2022-03-29T14:10:40.496387Z",
     "iopub.status.busy": "2022-03-29T14:10:40.495790Z",
     "iopub.status.idle": "2022-03-29T14:10:40.497766Z",
     "shell.execute_reply": "2022-03-29T14:10:40.498181Z"
    }
   },
   "outputs": [],
   "source": [
    "# A simple test for the correct answer.\n",
    "assert round(total_rt / n) == 382"
   ]
  },
  {
   "cell_type": "markdown",
   "id": "2cf444c6",
   "metadata": {},
   "source": [
    "## Bonus exercise\n",
    "\n",
    "Have a look at the Pandas package especially the `read_csv` method. Could you\n",
    "solve the previous exercise using this functionality?"
   ]
  }
 ],
 "metadata": {
  "jupytext": {
   "notebook_metadata_filter": "all,-language_info",
   "split_at_heading": true,
   "text_representation": {
    "extension": ".Rmd",
    "format_name": "rmarkdown",
    "format_version": "1.2",
    "jupytext_version": "1.13.7"
   }
  },
  "kernelspec": {
   "display_name": "Python 3",
   "language": "python",
   "name": "python3"
  },
  "language_info": {
   "codemirror_mode": {
    "name": "ipython",
    "version": 3
   },
   "file_extension": ".py",
   "mimetype": "text/x-python",
   "name": "python",
   "nbconvert_exporter": "python",
   "pygments_lexer": "ipython3",
   "version": "3.8.13"
  }
 },
 "nbformat": 4,
 "nbformat_minor": 5
}
